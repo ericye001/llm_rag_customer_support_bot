{
  "cells": [
    {
      "cell_type": "code",
      "execution_count": null,
      "metadata": {
        "id": "6T-z3sNo_328"
      },
      "outputs": [],
      "source": [
        "# install required modules\n",
        "%%capture --no-stderr\n",
        "%pip install --quiet -U langchain_openai langchain_core langgraph\n",
        "!pip install -q load_dotenv\n",
        "!pip install -q langchain-community\n",
        "!pip install -q faiss-cpu\n",
        "!pip install -q -U langchain_community\n",
        "!pip install -q -U langchain_pinecone\n",
        "!pip install requests beautifulsoup4"
      ]
    },
    {
      "cell_type": "code",
      "execution_count": null,
      "metadata": {
        "colab": {
          "base_uri": "https://localhost:8080/"
        },
        "id": "WBTSKz2gE0oB",
        "outputId": "7a8b0fdc-0b1c-4969-e668-c34d4f7b1f01"
      },
      "outputs": [
        {
          "output_type": "stream",
          "name": "stdout",
          "text": [
            "Collecting pypdf\n",
            "  Downloading pypdf-5.3.1-py3-none-any.whl.metadata (7.3 kB)\n",
            "Downloading pypdf-5.3.1-py3-none-any.whl (302 kB)\n",
            "\u001b[?25l   \u001b[90m━━━━━━━━━━━━━━━━━━━━━━━━━━━━━━━━━━━━━━━━\u001b[0m \u001b[32m0.0/302.0 kB\u001b[0m \u001b[31m?\u001b[0m eta \u001b[36m-:--:--\u001b[0m\r\u001b[2K   \u001b[91m━━━━━━━━━━━━━━━━━━━━━━━━━━━━━━━━━━━━━━━\u001b[0m\u001b[90m╺\u001b[0m \u001b[32m297.0/302.0 kB\u001b[0m \u001b[31m12.9 MB/s\u001b[0m eta \u001b[36m0:00:01\u001b[0m\r\u001b[2K   \u001b[90m━━━━━━━━━━━━━━━━━━━━━━━━━━━━━━━━━━━━━━━━\u001b[0m \u001b[32m302.0/302.0 kB\u001b[0m \u001b[31m8.0 MB/s\u001b[0m eta \u001b[36m0:00:00\u001b[0m\n",
            "\u001b[?25hInstalling collected packages: pypdf\n",
            "Successfully installed pypdf-5.3.1\n"
          ]
        }
      ],
      "source": [
        "!pip install pypdf"
      ]
    },
    {
      "cell_type": "code",
      "execution_count": null,
      "metadata": {
        "colab": {
          "base_uri": "https://localhost:8080/",
          "height": 297
        },
        "collapsed": true,
        "id": "m-7WUihxGjs_",
        "outputId": "9f16ee7a-9546-46c1-fa29-f8da8ec02adf"
      },
      "outputs": [
        {
          "output_type": "stream",
          "name": "stdout",
          "text": [
            "Drive already mounted at /content/gdrive; to attempt to forcibly remount, call drive.mount(\"/content/gdrive\", force_remount=True).\n",
            "Loading documents from the SIIG manual pdf filesknowledge base...\n"
          ]
        },
        {
          "output_type": "stream",
          "name": "stderr",
          "text": [
            "\n",
            "  1%|▏         | 26/1974 [09:42<12:06:58, 22.39s/it]\n",
            "\n",
            "100%|██████████| 1/1 [00:01<00:00,  1.35s/it]"
          ]
        },
        {
          "output_type": "stream",
          "name": "stdout",
          "text": [
            "Loaded 1 documents.\n"
          ]
        },
        {
          "output_type": "stream",
          "name": "stderr",
          "text": [
            "\n"
          ]
        },
        {
          "output_type": "error",
          "ename": "IndexError",
          "evalue": "list index out of range",
          "traceback": [
            "\u001b[0;31m---------------------------------------------------------------------------\u001b[0m",
            "\u001b[0;31mIndexError\u001b[0m                                Traceback (most recent call last)",
            "\u001b[0;32m<ipython-input-16-12b51eb6d225>\u001b[0m in \u001b[0;36m<cell line: 0>\u001b[0;34m()\u001b[0m\n\u001b[1;32m     35\u001b[0m \u001b[0midocs\u001b[0m \u001b[0;34m=\u001b[0m \u001b[0mtext_splitter\u001b[0m\u001b[0;34m.\u001b[0m\u001b[0msplit_documents\u001b[0m\u001b[0;34m(\u001b[0m\u001b[0mdocuments\u001b[0m\u001b[0;34m)\u001b[0m\u001b[0;34m\u001b[0m\u001b[0;34m\u001b[0m\u001b[0m\n\u001b[1;32m     36\u001b[0m \u001b[0mdocs\u001b[0m \u001b[0;34m=\u001b[0m \u001b[0;34m[\u001b[0m\u001b[0mx\u001b[0m \u001b[0;32mfor\u001b[0m \u001b[0mx\u001b[0m \u001b[0;32min\u001b[0m \u001b[0midocs\u001b[0m \u001b[0;32mif\u001b[0m \u001b[0;34m(\u001b[0m\u001b[0mlen\u001b[0m\u001b[0;34m(\u001b[0m\u001b[0mx\u001b[0m\u001b[0;34m.\u001b[0m\u001b[0mpage_content\u001b[0m\u001b[0;34m)\u001b[0m \u001b[0;34m>\u001b[0m \u001b[0;36m5\u001b[0m \u001b[0;32mand\u001b[0m \u001b[0;32mnot\u001b[0m\u001b[0;34m(\u001b[0m\u001b[0mx\u001b[0m\u001b[0;34m.\u001b[0m\u001b[0mpage_content\u001b[0m\u001b[0;34m.\u001b[0m\u001b[0mstartswith\u001b[0m\u001b[0;34m(\u001b[0m\u001b[0;34m\"URL:\"\u001b[0m\u001b[0;34m)\u001b[0m\u001b[0;34m)\u001b[0m \u001b[0;34m)\u001b[0m \u001b[0;34m]\u001b[0m\u001b[0;34m\u001b[0m\u001b[0;34m\u001b[0m\u001b[0m\n\u001b[0;32m---> 37\u001b[0;31m \u001b[0mprint\u001b[0m\u001b[0;34m(\u001b[0m\u001b[0;34mf\"Split documents into {len(docs)} chunks. {docs[0]}\"\u001b[0m\u001b[0;34m)\u001b[0m\u001b[0;34m\u001b[0m\u001b[0;34m\u001b[0m\u001b[0m\n\u001b[0m",
            "\u001b[0;31mIndexError\u001b[0m: list index out of range"
          ]
        }
      ],
      "source": [
        "import os\n",
        "from langchain_community.document_loaders import DirectoryLoader,PyPDFLoader,TextLoader\n",
        "from langchain.text_splitter import CharacterTextSplitter\n",
        "from langchain.embeddings.openai import OpenAIEmbeddings\n",
        "from langchain.vectorstores import FAISS\n",
        "from langchain.llms import OpenAI\n",
        "from langchain.chains import RetrievalQA\n",
        "from google.colab import drive\n",
        "\n",
        "#uncomment this when mounting the google drive to Colab for the first time\n",
        "drive.mount('/content/gdrive')\n",
        "\n",
        "    # --------------------------\n",
        "    # 1. Load your Knowledge Base\n",
        "    # --------------------------\n",
        "    # Assume all your page content (e.g. text or HTML files) is stored under the 'documents' directory.\n",
        "    # Adjust the file pattern as needed (e.g. \"**/*.html\" for HTML files).\n",
        "#loader = DirectoryLoader(\"/content/gdrive/MyDrive/site_content/\",  glob=\"**/*.txt\", show_progress=True, loader_cls=TextLoader)\n",
        "loader = DirectoryLoader(\"/content/gdrive/MyDrive/temp/\",  glob=\"**/*.pdf\", show_progress=True, loader_cls=PyPDFLoader)\n",
        "    #loader = DirectoryLoader(\"documents\", glob=\"**/*.txt\")\n",
        "print(\"Loading documents from the SIIG manual pdf filesknowledge base...\")\n",
        "documents = loader.load()\n",
        "print(f\"Loaded {len(documents)} documents.\")\n",
        "\n",
        "    # --------------------------\n",
        "    # 2. Split Documents into Chunks\n",
        "    # --------------------------\n",
        "    # Splitting text into chunks helps the model process long documents and retrieve relevant pieces.\n",
        "#text_splitter = CharacterTextSplitter(chunk_size=1000, chunk_overlap=200)\n",
        "#docs = text_splitter.split_documents(documents)\n",
        "#print(f\"Split documents into {len(docs)} chunks.\")\n",
        "\n",
        "#separate lines by \\n\n",
        "text_splitter = CharacterTextSplitter(separator=\"\\n\",chunk_size=3000, chunk_overlap=100)\n",
        "idocs = text_splitter.split_documents(documents)\n",
        "docs = [x for x in idocs if (len(x.page_content) > 5 and not(x.page_content.startswith(\"URL:\")) ) ]\n",
        "print(f\"Split documents into {len(docs)} chunks. {docs[0]}\")"
      ]
    },
    {
      "cell_type": "code",
      "execution_count": null,
      "metadata": {
        "colab": {
          "base_uri": "https://localhost:8080/"
        },
        "id": "Suiya_Er9sB7",
        "outputId": "afaee7f6-20fc-4e78-fd1a-d0d29b630e22"
      },
      "outputs": [
        {
          "output_type": "stream",
          "name": "stdout",
          "text": [
            "Drive already mounted at /content/gdrive; to attempt to forcibly remount, call drive.mount(\"/content/gdrive\", force_remount=True).\n",
            "Loading documents from the SIIG manual pdf filesknowledge base...\n"
          ]
        },
        {
          "output_type": "stream",
          "name": "stderr",
          "text": [
            "\n",
            "  0%|          | 0/1 [00:00<?, ?it/s]\u001b[A\n",
            "100%|██████████| 1/1 [00:00<00:00,  2.27it/s]"
          ]
        },
        {
          "output_type": "stream",
          "name": "stdout",
          "text": [
            "Loaded 1 documents.\n",
            "Split documents into 1 chunks.\n"
          ]
        },
        {
          "output_type": "stream",
          "name": "stderr",
          "text": [
            "\n"
          ]
        }
      ],
      "source": [
        "import os\n",
        "from langchain_community.document_loaders import DirectoryLoader,PyPDFLoader,TextLoader\n",
        "from langchain.text_splitter import CharacterTextSplitter\n",
        "from langchain.embeddings.openai import OpenAIEmbeddings\n",
        "from langchain.vectorstores import FAISS\n",
        "from langchain.llms import OpenAI\n",
        "from langchain.chains import RetrievalQA\n",
        "from google.colab import drive\n",
        "\n",
        "#uncomment this when mounting the google drive to Colab for the first time\n",
        "drive.mount('/content/gdrive')\n",
        "\n",
        "    # --------------------------\n",
        "    # 1. Load your Knowledge Base\n",
        "    # --------------------------\n",
        "    # Assume all your page content (e.g. text or HTML files) is stored under the 'documents' directory.\n",
        "    # Adjust the file pattern as needed (e.g. \"**/*.html\" for HTML files).\n",
        "loader = DirectoryLoader(\"/content/gdrive/MyDrive/product_data_7_9/\",  glob=\"**/*.txt\", show_progress=True, loader_cls=TextLoader)\n",
        "    #loader = DirectoryLoader(\"documents\", glob=\"**/*.txt\")\n",
        "print(\"Loading documents from the SIIG manual pdf filesknowledge base...\")\n",
        "documents = loader.load()\n",
        "print(f\"Loaded {len(documents)} documents.\")\n",
        "\n",
        "    # --------------------------\n",
        "    # 2. Split Documents into Chunks\n",
        "    # --------------------------\n",
        "    # Splitting text into chunks helps the model process long documents and retrieve relevant pieces.\n",
        "#text_splitter = CharacterTextSplitter(chunk_size=1000, chunk_overlap=200)\n",
        "#docs = text_splitter.split_documents(documents)\n",
        "#print(f\"Split documents into {len(docs)} chunks.\")\n",
        "\n",
        "#separate lines by \\n\n",
        "#text_splitter = CharacterTextSplitter(separator=\"\\n\",chunk_size=1000, chunk_overlap=100)\n",
        "#idocs = text_splitter.split_documents(documents)\n",
        "docs = [x for x in documents if (len(x.page_content) > 5 and len(x.page_content) <= 30000 and not(x.page_content.startswith(\"URL:\")) ) ]\n",
        "print(f\"Split documents into {len(docs)} chunks.\")"
      ]
    },
    {
      "cell_type": "code",
      "execution_count": null,
      "metadata": {
        "colab": {
          "base_uri": "https://localhost:8080/"
        },
        "collapsed": true,
        "id": "2m7LrYxhtVfC",
        "outputId": "3c15e8f1-ab24-44b5-8585-9448ca2d0d90"
      },
      "outputs": [
        {
          "name": "stdout",
          "output_type": "stream",
          "text": [
            "page_content='﻿Below is a detailed comparison of SIIG’s industrial charging products based on the four model numbers provided. While the exact datasheets should be consulted for final verification, the following summary outlines key specifications, design features, and intended use cases for each model:\n",
            "________________\n",
            "\n",
            "\n",
            "Overview of Models\n",
            "1. ID-US0A11-S1\n",
            " – Type: 600W 16‑port industrial charging station\n",
            "– Total Power: Approximately 600 W\n",
            "– Per-Port Output: Up to ~30 W\n",
            "– Charging Protocols: USB‑C Power Delivery (PD 2.0/3.0)\n",
            "– Target Devices: Smartphones, tablets, and other low‑power USB‑C devices\n",
            "– Design & Build:\n",
            " • Rugged, metal chassis with rack‑mountable design\n",
            "• Integrated active (fan‑assisted) cooling system\n",
            "• Basic LED indicators and a master power switch\n",
            "– Use Case: Ideal for environments (e.g., schools, IT labs, offices) where many devices need simultaneous charging without high‑power laptop requirements\n",
            "\n",
            "2. ID-US0C11-S1\n",
            " – Type: 100W 16‑port industrial charging station\n",
            "Specifications\n",
            "                                        \n",
            "   * Input:\n",
            "   * Input Voltage: 100VAC - 240VAC\n",
            "   * Frequency: 50Hz / 60Hz\n",
            "   * Input Current: 24V/41.67A\n",
            "   * C14 Power Jack: 1.5m (3x1.5mm2 US power cord)\n",
            "   * Internal Power Supply: 1000W - 24V\n",
            "   * Output\n",
            "   * USB Port: 16 x USB-C, Female\n",
            "   * Micro USB: support extend the LED panel (option)\n",
            "   * Power Delivery\n",
            "   * PD output power: Up to 100W (5V/3A, 9V/3A, 12V/3A, 15V/3A, 20V/5A)\n",
            "   * 10 ports USB-C plug in together, it is support up to 100W for each port\n",
            "   * 15 ports USB-C plug in together, it is support up to 65W for each port\n",
            "   * 16 ports USB-C plug in together, it is support up to 60W for each port\n",
            "   * *Note: 100W charger must use a cable that includes an E-mark IC and meets the specifications to support 100W (20V/5A) chargingUSB-C Protocol\n",
            "   * Support 5V / 9V / 12V output\n",
            "   * Support PD 2.0 / PD 3.0\n",
            "   * PPS support 3.3V to 21V, 5A\n",
            "   * Output specification\n",
            "   * Support USB-C PD output\n",
            "   * Support BC 1.2_DCP, Apple protocol\n",
            "   * Support Qualcomm QC2.0 / QC3.0 / QC4.0+\n",
            "   * Support Fast Charging protocol FCP, SCP and AFC (Max 12V)\n",
            "   * 16 port USB-C LED indicators:\n",
            "   * RED color: Charging in progress\n",
            "   * GREEN color: Power on or full charged\n",
            "   * Product:\n",
            "   * Dimensions: 17.40\"(W) x 1.83\"(H) x 8.42\"(D)\n",
            "   * Weight: 8.60 lbs\n",
            "   * Color: Black\n",
            "   * Housing: Metal housing with standard 19 inch rack mounting\n",
            "   * Connectors:\n",
            "   * 1x AC Power Jack\n",
            "   * 1x Power Switch\n",
            "   * 16x USB Type-C, Female, PD up to 100W\n",
            "   * 1x Micro USB, support extend the LED panel (option)\n",
            "   * Unit Package:\n",
            "   * Dimensions: 21.57\"(W) x 3.94\"(H) x 10.63\"(D)\n",
            "   * Weight: 10.36 lbs\n",
            "   * Operating temperature: 32 to 104 degrees F\n",
            "   * Storage temperature: -4 to 158 degrees F\n",
            "   * Relative humidity: 10% to 90% RH (non-condensing)\n",
            "   * Working Altitude: Less than 2km\n",
            "   * ETL: Intertek 4000850\n",
            "Environmental conditions:\n",
            "Certifications/Standards: FCC, CE, RoHS, ETL\n",
            "UPC code: 662774-046556\n",
            "Warranty: 2 year limited\n",
            "– Total Power: Approximately 1000 W\n",
            "– Per-Port Output: Up to 100 W when used singly (actual output per port adjusts with load sharing)\n",
            "– Charging Protocols: Advanced USB‑C PD 3.0 with extended voltage/current profiles (e.g., 5V, 9V, 12V, 15V, 20V)\n",
            "– Target Devices: From mobile devices up to high‑power laptops\n",
            "– Design & Build:\n",
            " • Heavy‑duty, industrial‑grade metal enclosure suitable for rack mounting\n",
            "• Robust active cooling system to sustain continuous operation\n",
            "• Comprehensive safety circuitry (over‑voltage, over‑current, short‑circuit, over‑temperature protection)\n",
            "– Use Case: Best for mixed environments (such as enterprise, educational institutions, or conference facilities) where some devices demand higher charging wattage\n",
            "\n",
            "   3. ID-US0B11-S3\n",
            " – Type: 600W 16‑port industrial charging station (mid‑range option),  supports data transfer\n",
            "Internal Power Supply: 600W–24V Meanwell switching power supply\n",
            "Input:\n",
            "USB-C Input: 2x USB-C port, Female with PD 100W\n",
            "Output\n",
            "USB-C Protocol\n",
            "Output specification\n",
            "2 port Host LED indicators:\n",
            "14 port USB-C LED indicators:\n",
            "Output overcurrent protection: output >3.5 to 3.9A, USB port current output automatic disconnect\n",
            "Output overvoltage protection: When the output terminal voltage>16V or more due to an accidental cause, the TVS discharge on the terminal circuit causes the input circuit fuse to open, cutting off power to the circuit and thus protecting the equipment at this port\n",
            "Product:\n",
            "Unit Package:\n",
            "Environmental conditions:\n",
            "Certifications/Standards: FCC, CE, RoHS, UL\n",
            "UPC code: 662774-046617\n",
            "Warranty: 2 year limited\n",
            "Country of origin: China\n",
            "      * Input Voltage: 110V AC\n",
            "      * Frequency: 50Hz / 60Hz\n",
            "      * Input Current: 12A/115VAC\n",
            "      * USB Port: 14 x USB-C, Female, data transfer up to 5Gbps\n",
            "      * PD output power: 30W (5V/3A, 9V/3A, 12V/2.5A)\n",
            "      * Efficiency: VIN=24V, VOUT=5V/3A, Conversion Efficiency is 92%\n",
            "      * Support 5V / 9V / 12V Voltage output\n",
            "      * Support PD 2.0 / PD 3.0\n",
            "      * PPS support 3 to 11V, 20mV/step Voltage output\n",
            "      * Support USB-C PD output\n",
            "      * Support BC 1.2\n",
            "      * LED On: Charging\n",
            "      * LED Off: Not Charging\n",
            "      * RED color: Device connected\n",
            "      * GREEN color: Power On\n",
            "      * Dimensions: 17.32\"(W) x 2.24\"(H) x 8.07\"(D)\n",
            "      * Weight: 6.38 lbs\n",
            "      * Color: Black\n",
            "      * Housing: Metal housing with standard 19 inch rack mounting\n",
            "      * Connectors:\n",
            "      * 1x AC Power Jack\n",
            "      * 1x Power Switch\n",
            "      * 2x USB Type-C, Female, for Host 1&2, PD 100W\n",
            "      * 14x USB Type-C, Female, data transfer up to 5Gbps, PD 30W\n",
            "      * Dimensions: 21.50\"(W) x 2.76\"(H) x 10.24\"(D)\n",
            "      * Weight: 7.70 lbs\n",
            "      * Operating temperature: 14 to 131 degrees F\n",
            "      * Storage temperature: -4 to 158 degrees F\n",
            "      * Relative humidity: 20% to 90% RH (non-condensing)\n",
            "      * Working Altitude: Less than 2km\n",
            "      * UL E183223\n",
            "– Charging Protocols: USB‑C PD 3.0 (compatible with standard fast‑charge protocols)\n",
            "– Target Devices: Designed for a mixed fleet—able to charge both lower‑power mobile devices and moderately power‑hungry devices\n",
            "– Design & Build:\n",
            " • Industrial‑grade metal construction with a similar rack‑mountable format\n",
            "• Active cooling (fan‑based) to manage heat during sustained use\n",
            "• May include enhanced status indicators or monitoring features compared to the 600 W model\n",
            "– Use Case: A balanced solution for settings that require more power than the basic 600 W model but do not necessarily need the full 1000 W capacity. Ideal for institutions with varied charging needs\n",
            "\n",
            "         4. ID-US0611-S1\n",
            " – Type: Compact industrial charging station\n",
            "\n",
            "Compliant with USB 3.0 standard\n",
            "Maximum data transfer rate: Up to 5Gbps\n",
            "USB charging standard: BC 1.2, SDP / CDP / DCP\n",
            "Power:\n",
            "\n",
            "            * Input voltage: 100-120VAC\n",
            "            * Frequency: 50/60Hz\n",
            "            * Input current: 4A/115VAC\n",
            "            * Power supply output : 5V/40A (200 Watts Max)\n",
            "            * USB-A power output : Up to 5V/2.1A\n",
            "Cooling fan:\n",
            "\n",
            "            * Temperature sensing auto On/Off\n",
            "            * Operating temperature range: 104 degrees F to 122 degrees F (40C to 50C)\n",
            "Product:\n",
            "Connectors:\n",
            "Unit Package:\n",
            "\n",
            "            * Dimensions: 10.98\" (W) x 11.38\" (H) x 3.86\" (D)\n",
            "            * Weight: 5.51 lbs\n",
            "Environmental conditions:\n",
            "Certifications/Standards: FCC, CE, RoHS\n",
            "            * Dimensions: 9.25\" (L) x 6.36\" (W) x 2.73\" (D)\n",
            "            * Weight: 4.63 lbs\n",
            "            * Color: Black\n",
            "            * Housing: Metal housing with mounting mechanism\n",
            "            * 2x USB 3.0 Type-B, Female, Computer connection\n",
            "            * 1x AC Power Jack\n",
            "            * 1x Power Switch\n",
            "            * 20 x USB 3.0 Type-A, Female, USB device connection\n",
            "            * Operating temperature: 32 to 131 degrees F\n",
            "            * Storage temperature: 14 to 140 degrees F\n",
            "            * Relative humidity: 5% to 85% RH (non-condensing)\n",
            "\n",
            "\n",
            "– Target Devices: Best suited for environments with limited simultaneous charging needs—ideal for kiosks, smaller offices, or dedicated workstations\n",
            "– Design & Build:\n",
            " • Maintains industrial‑grade durability in a smaller footprint\n",
            "• May offer a desktop or benchtop form factor rather than rack‑mount capability\n",
            "• Includes efficient cooling (active or optimized passive design) and full safety protections\n",
            "– Use Case: Suited for settings where space is at a premium or where only a handful of devices are charged at one time, while still benefiting from industrial reliability\n",
            "\n",
            "________________\n",
            "\n",
            "\n",
            "Detailed Comparison by Key Aspects\n",
            "1. Total Power & Per‑Port Output\n",
            "            * ID‑US0A11-S1 (600 W):\n",
            " – Provides ample power for 16 devices at roughly 30 W each, making it ideal for charging smartphones/tablets where high‑power output isn’t critical.\n",
            "\n",
            "            * ID‑US0C11-S1 (1000 W):\n",
            " – Offers significantly higher capacity with up to 100 W per port (if used individually), ensuring even high‑power laptops can be charged; output adjusts dynamically when multiple ports are active.\n",
            "\n",
            "            * ID‑US0B11-S3 (600 W):\n",
            " – Serves as an intermediate option; it balances the number of ports with increased per‑port output (around 30 W average), providing flexibility for mixed device types.\n",
            "               * supports data transfer\n",
            "\n",
            "\n",
            "                  * ID‑US0611-S1 (20 port):\n",
            " – Delivers a lower overall wattage suitable for fewer devices. The per‑port output remains competitive (10.5 W) so that even in a smaller unit, reliable charging is maintained.\n",
            "\n",
            "2. Charging Protocols & Compatibility\n",
            "                     * All Models:\n",
            " – Use USB‑C Power Delivery as the primary protocol, ensuring compatibility with modern smartphones, tablets, and laptops.\n",
            "– The higher‑rated models (US0C11-S1 and likely US0B11-S3) support the full range of PD 3.0 profiles, enabling higher voltage/current combinations for demanding devices.\n",
            "3. Physical Design & Durability\n",
            "                        * Industrial‑Grade Construction:\n",
            " – The 16‑port models (ID‑US0A11-S1, ID‑US0B11-S3, and ID‑US0C11-S1) are built in rugged metal enclosures suitable for rack mounting. They are designed to operate continuously in high‑usage environments.\n",
            "– The compact 20 port model (ID‑US0611-S1) maintains industrial reliability but is optimized for smaller workspaces or mobile installations.\n",
            "\n",
            "                        * Cooling Systems:\n",
            " – All models incorporate active cooling (typically a fan system) that adjusts based on thermal load to protect internal components during sustained high‑power operation.\n",
            "– The larger units may have more robust cooling solutions to handle the higher total wattage.\n",
            "\n",
            "4. Safety & Reliability Features\n",
            "                           * Common Protections:\n",
            " – Every model includes comprehensive safety circuits: over‑voltage, over‑current, short‑circuit, and over‑temperature protection.\n",
            "– These built‑in safeguards help ensure stable operation even in environments with variable power draw and prevent damage to connected devices.\n",
            "\n",
            "                           * Additional Features:\n",
            " – Some models (for example, the US0B11-S3) may offer enhanced indicators or monitoring features, such as LED status displays that quickly convey port or unit status to operators.\n",
            "\n",
            "5. Intended Use Cases\n",
            "                              * Large‑Scale Deployments:\n",
            " – The 16‑port models (US0A11-S1, US0B11-S3, US0C11-S1) are aimed at environments where many devices must be charged simultaneously—such as schools, large offices, IT labs, or public charging stations.\n",
            "\n",
            "                              * Mixed Device Requirements:\n",
            " – The 1000 W model (US0C11-S1) is particularly suited for mixed fleets that include high‑power laptops alongside mobile devices, while the 600 W (US0A11-S1) and (US0B11-S3) units serve environments with predominantly lower‑power devices.\n",
            "\n",
            "                              * Smaller Installations:\n",
            " – The 20 port unit (US0611-S1) caters to settings with more limited charging needs (e.g., a kiosk, a small office desk, or a dedicated workbench), while still providing the robust industrial design and safety features expected from SIIG.\n",
            "\n",
            "________________\n",
            "\n",
            "\n",
            "Summary\n",
            "                                 * ID‑US0A11-S1 is best when you need a high‑port count (16 ports) for low‑to‑moderate charging power (up to 30 W per port), making it cost‑effective for mass charging of mobile devices.\n",
            "                                 * ID‑US0C11-S1 delivers the highest power (1000 W) among the 16‑port offerings and supports high‑power charging needs (up to 100 W per port), ideal for settings that include power‑hungry devices like laptops.\n",
            "                                 * ID‑US0B11-S3 serves as a middle‑ground option—offering around 600 W total—with balanced per‑port output for environments that have a mix of device types without requiring the full capacity of the 1000 W unit. It supports data transfer\n",
            "\n",
            "                                 * ID‑US0611-S1 is a compact, 20 port solution for smaller environments where space is limited but industrial‑grade durability and consistent performance remain critical.\n",
            "Each model is designed with robust safety features, active cooling, and industrial‑grade construction to ensure reliable, continuous operation in demanding environments. When choosing among these, the decision typically hinges on the number of devices to be charged simultaneously and the individual device power requirements.' metadata={'source': '/content/gdrive/MyDrive/product_data_7_9/SIIG’s industrial charging products(1).txt'}\n"
          ]
        }
      ],
      "source": [
        "print(docs[0])"
      ]
    },
    {
      "cell_type": "code",
      "execution_count": null,
      "metadata": {
        "id": "O3hj__zLDCTW"
      },
      "outputs": [],
      "source": [
        "from langchain_pinecone import PineconeVectorStore\n",
        "os.environ[\"OPENAI_API_KEY\"] = \"????\"\n",
        "os.environ['PINECONE_API_KEY'] = '????'\n",
        "index_name = \"manuals\"\n",
        "embeddings = OpenAIEmbeddings()\n",
        "vectorstore= PineconeVectorStore.from_documents(\n",
        "    docs,\n",
        "    index_name=index_name,\n",
        "    embedding=embeddings\n",
        ")\n",
        "query = \"Can ID-US0C11-S1 support 60W PD charging\"\n",
        "result = vectorstore.similarity_search(query)\n",
        "print(result)\n",
        "\n",
        "\n"
      ]
    },
    {
      "cell_type": "code",
      "execution_count": null,
      "metadata": {
        "colab": {
          "base_uri": "https://localhost:8080/"
        },
        "id": "QVHZe9lL6nIv",
        "outputId": "32587569-b53a-42a4-c84c-6b42bf83009d"
      },
      "outputs": [
        {
          "name": "stdout",
          "output_type": "stream",
          "text": [
            "['CE-MT3N11-S1', 'CE-MT2611-S1']\n"
          ]
        }
      ],
      "source": [
        "import re\n",
        "\n",
        "docstring = \"CE-MT3N11-S1 is a replacement for CE-MT2611-S1\"\n",
        "print(re.findall(\"\\w\\w-\\w+-\\w\\w\", docstring))\n"
      ]
    },
    {
      "cell_type": "code",
      "execution_count": null,
      "metadata": {
        "colab": {
          "base_uri": "https://localhost:8080/"
        },
        "id": "cHWgT_86tOw9",
        "outputId": "a2676d64-024d-49ee-9a79-e2646e9d7aae"
      },
      "outputs": [
        {
          "name": "stdout",
          "output_type": "stream",
          "text": [
            "\u001b[?25l     \u001b[90m━━━━━━━━━━━━━━━━━━━━━━━━━━━━━━━━━━━━━━━━\u001b[0m \u001b[32m0.0/91.0 kB\u001b[0m \u001b[31m?\u001b[0m eta \u001b[36m-:--:--\u001b[0m\r\u001b[2K     \u001b[91m━━━━━━━━━━━━━━━━━━━━━━━━━━━━━━━━━━━\u001b[0m\u001b[91m╸\u001b[0m\u001b[90m━━━━\u001b[0m \u001b[32m81.9/91.0 kB\u001b[0m \u001b[31m3.2 MB/s\u001b[0m eta \u001b[36m0:00:01\u001b[0m\r\u001b[2K     \u001b[90m━━━━━━━━━━━━━━━━━━━━━━━━━━━━━━━━━━━━━━━━\u001b[0m \u001b[32m91.0/91.0 kB\u001b[0m \u001b[31m2.3 MB/s\u001b[0m eta \u001b[36m0:00:00\u001b[0m\n",
            "\u001b[?25h\u001b[?25l   \u001b[90m━━━━━━━━━━━━━━━━━━━━━━━━━━━━━━━━━━━━━━━━\u001b[0m \u001b[32m0.0/43.8 kB\u001b[0m \u001b[31m?\u001b[0m eta \u001b[36m-:--:--\u001b[0m\r\u001b[2K   \u001b[90m━━━━━━━━━━━━━━━━━━━━━━━━━━━━━━━━━━━━━━━━\u001b[0m \u001b[32m43.8/43.8 kB\u001b[0m \u001b[31m3.6 MB/s\u001b[0m eta \u001b[36m0:00:00\u001b[0m\n",
            "\u001b[?25h"
          ]
        }
      ],
      "source": [
        "!pip install -q -U tavily-python"
      ]
    },
    {
      "cell_type": "code",
      "execution_count": null,
      "metadata": {
        "colab": {
          "base_uri": "https://localhost:8080/"
        },
        "id": "6fhb0XD-BuKx",
        "outputId": "605c7b04-6517-4689-eabb-5ee47a365b2f"
      },
      "outputs": [
        {
          "name": "stdout",
          "output_type": "stream",
          "text": [
            "{'query': 'how much is ID-US0C11-S1?', 'follow_up_questions': None, 'answer': None, 'images': [], 'results': [{'title': '16-Port Industrial USB-C PD Charging Station - 1000W - SIIG', 'url': 'https://www.siig.com/16-port-industrial-usb-c-pd-charging-station-1000w.html', 'content': 'ID-US0C11-S1. $599.99. Add to Wish List Add to Compare. Email. Join our free Membership Program and save 5% off every order. We ship all orders within 1 business day. Contact us now for more information about our products. Lifetime technical support on all of our products. 45-day return window and money-back guarantee.', 'score': 0.8815438, 'raw_content': None}, {'title': 'SIIG 16-Port Industrial USB-C PD Charging Station (ID-US0C11-S1) - eBay', 'url': 'https://www.ebay.com/itm/135286266608', 'content': \"SIIG 16-Port Industrial USB-C PD Charging Station (ID-US0C11-S1) e-TekDepot (4132) 99.6% positive; Seller's other items Seller's other items; Contact seller; US $322.89. or Best Offer. Was US $339.88 (5% off) What does this price mean? Recent sales price provided by the seller. US $306.75 with coupon code Price details.\", 'score': 0.86108357, 'raw_content': None}, {'title': 'Siig - 16-port Indust Usb-c Pd Charging Station', 'url': 'https://global.channelonline.com/lakeshoreit/previewstore/Products/overview/M025384320', 'content': \"ID-US0C11-S1 UPC: N/A Replacement Product: N/A Product Condition: New Price: $583.51 Total Available: 31 Qty: Add to Cart. Add to Favorites. Overview; Specifications; Related Products; Product Description Additional Details What's Included Specifications\", 'score': 0.85797083, 'raw_content': None}, {'title': 'Siig 1000w 16pt Ind Usb-c Chargestn - Id-us0c11-s1 - Cdw', 'url': 'https://www.cdw.com/product/siig-1000w-16pt-ind-usb-c-chargestn/8087802', 'content': 'Mfg # ID-US0C11-S1 CDW # 8087802 | UNSPSC 56101535 . Know your gear. $587.99. Availability: 30 units In Stock. Add to Cart. Add to Compare. Save to Favorites. Enhance your purchase. Better Together. Current Item.', 'score': 0.84277284, 'raw_content': None}, {'title': '16-Port Industrial USB-C PD Charging Station - 600W - SIIG', 'url': 'https://www.siig.com/16-port-industrial-usb-c-pd-charging-station-600w.html', 'content': 'ID-US0A11-S1. $359.99. Qty. Add to Cart. Add to Wish List Add to Compare. Email. Join our free Membership Program and save 5% off every order. ... ID-US0C11-S1; Main Features : PD Charging Station : PD Charging Station + Hub: Charging Station + Hub : PD Charging Station : Total Power Supply (Max) 600W: 600W: 200W: 1000W:', 'score': 0.8412138, 'raw_content': None}], 'response_time': 2.01}\n"
          ]
        }
      ],
      "source": [
        "# To install, run: pip install tavily-python\n",
        "from tavily import TavilyClient\n",
        "\n",
        "client = TavilyClient(api_key=\"????\")\n",
        "\n",
        "response = client.search(\n",
        "    query=\"how much is ID-US0C11-S1?\"\n",
        ")\n",
        "\n",
        "print(response)\n"
      ]
    },
    {
      "cell_type": "code",
      "execution_count": null,
      "metadata": {
        "colab": {
          "base_uri": "https://localhost:8080/"
        },
        "id": "aR7xbnUZ-mPl",
        "outputId": "c1446b8c-7c8a-4ef1-c346-bb47765811c1"
      },
      "outputs": [
        {
          "name": "stdout",
          "output_type": "stream",
          "text": [
            "Mfr #: CE-MT3N11-S1. UNSPSC #: 43211602. 0. Your price: USD $77.99. In stock: 45 available. View similar items. Select quantity. Add to cart. Tech overview. SIIG Security Lockable Countertop Kiosk Stand Holder for iPad - Kiosk - for tablet - stand - lockable - metal, aluminum - white - screen size: 9.7\"-11\" - counter top ... Total price: USD\n",
            "343\n"
          ]
        }
      ],
      "source": [
        "print(response['results'][0]['content'])\n",
        "print(len(response['results'][0]['content']))"
      ]
    },
    {
      "cell_type": "code",
      "execution_count": null,
      "metadata": {
        "colab": {
          "base_uri": "https://localhost:8080/"
        },
        "collapsed": true,
        "id": "ila4df45UWN4",
        "outputId": "a3e1d37e-27b9-45ff-c0a7-44f870298c25"
      },
      "outputs": [
        {
          "output_type": "stream",
          "name": "stderr",
          "text": [
            "<ipython-input-2-8d9d0c697896>:22: LangChainDeprecationWarning: The class `OpenAIEmbeddings` was deprecated in LangChain 0.0.9 and will be removed in 1.0. An updated version of the class exists in the :class:`~langchain-openai package and should be used instead. To use it run `pip install -U :class:`~langchain-openai` and import as `from :class:`~langchain_openai import OpenAIEmbeddings``.\n",
            "  embeddings = OpenAIEmbeddings()\n"
          ]
        },
        {
          "output_type": "stream",
          "name": "stdout",
          "text": [
            "Vector store created.\n",
            "{'source': '/content/gdrive/MyDrive/site_content/products_it-products_kvms_extender_hdmi-2-0-kvm-over-cat6-extender-with-loopout-s-pdif.html.txt'}\n",
            "87641efe-24d0-47bc-af9c-982e1ccc5e4f\n",
            "{'source': '/content/gdrive/MyDrive/product_data/CE-H24H11-S1.txt'}\n",
            "dec0672c-3253-425e-9a47-b35999634c0d\n",
            "{'source': '/content/gdrive/MyDrive/site_content/av-products_pro-av_1x2-8k-hdmi-splitter-with-edid-audio-extractor.html.txt'}\n",
            "ee7232d9-1943-44d2-84e5-fa519abc81c4\n",
            "{'source': '/content/gdrive/MyDrive/site_content/taa-compliant_avpro_1x2-8k-hdmi-splitter-with-edid-audio-extractor.html.txt'}\n",
            "b4367817-eb08-4761-9b0e-f48e2fe2bf81\n",
            "{'source': '/content/gdrive/MyDrive/site_content/1x2-8k-hdmi-splitter-with-edid-audio-extractor.html.txt'}\n",
            "5d87b175-7763-40db-b9c0-e554c7ba0c43\n",
            "{'source': '/content/gdrive/MyDrive/product_data/CE-H24E11-S1.txt'}\n",
            "056497c2-dd96-49b7-8947-fd3f45d37d75\n",
            "{'source': '/content/gdrive/MyDrive/product_data/CE-H20211-S1.txt'}\n",
            "81b57285-e15f-43cb-92e0-225a20231270\n",
            "{'source': '/content/gdrive/MyDrive/product_data/CE-H20211-S1.txt'}\n",
            "7310f4d5-3ec7-4a9e-9ad8-df88d484cfd7\n",
            "{'source': '/content/gdrive/MyDrive/product_data/CE-H20211-S1.txt'}\n",
            "2e3dfac1-c02d-4144-ace5-7f98d14b07a0\n",
            "{'source': '/content/gdrive/MyDrive/product_data/CE-H20211-S1.txt'}\n",
            "9c50cf16-6879-49d3-8f49-756ccfc35d49\n",
            "{'source': '/content/gdrive/MyDrive/product_data_7_9/CE-H25411-S2.txt'}\n",
            "42a8e10e-07bf-4b6a-9e64-956a9d9ca8c2\n",
            "{'source': '/content/gdrive/MyDrive/site_content/taa-compliant_avpro.html.txt'}\n",
            "72e41995-b15b-4b4b-834d-0af3f7cb4657\n",
            "{'source': '/content/gdrive/MyDrive/product_data_7_9/CE-H27Q11-S1.txt'}\n",
            "3745c26f-141e-4287-a2ef-ba5ba9e714fb\n",
            "{'source': '/content/gdrive/MyDrive/product_data_7_9/CE-H27Q11-S1.txt'}\n",
            "65ca8b14-be3e-488b-abd8-f5b019cbaadd\n",
            "{'source': '/content/gdrive/MyDrive/product_data/CE-H25411-S1.txt'}\n",
            "f82a177a-9194-4c8e-8937-ad24d2814f5f\n"
          ]
        }
      ],
      "source": [
        "\n",
        "from langchain_openai import ChatOpenAI\n",
        "from langchain.chains import create_retrieval_chain\n",
        "from langchain.chains.combine_documents import create_stuff_documents_chain\n",
        "from langchain_core.prompts import ChatPromptTemplate, MessagesPlaceholder\n",
        "from langchain_core.messages import HumanMessage\n",
        "from pinecone import Pinecone, ServerlessSpec\n",
        "from langchain_pinecone import PineconeVectorStore\n",
        "from langchain.embeddings.openai import OpenAIEmbeddings\n",
        "from google.colab import userdata\n",
        "import os\n",
        "import re\n",
        "os.environ[\"OPENAI_API_KEY\"] = userdata.get('OPENAI_API_KEY')\n",
        "os.environ['PINECONE_API_KEY'] = userdata.get('PINECONE_API_KEY')\n",
        "#text_field = \"text\"\n",
        "PINECONE_API_KEY = userdata.get('PINECONE_API_KEY')\n",
        "\n",
        "#client = Pinecone(api_key=PINECONE_API_KEY)\n",
        "\n",
        "#for idx  in client.list_indexes():\n",
        "#    print(idx)\n",
        "index_name = \"manuals\"\n",
        "embeddings = OpenAIEmbeddings()\n",
        "vectorstore = PineconeVectorStore(\n",
        "    index_name=index_name, embedding=embeddings,  pinecone_api_key=PINECONE_API_KEY\n",
        ")\n",
        "print(\"Vector store created.\")\n",
        "query = \"what is CE-H28A11-S1\"\n",
        "result = vectorstore.similarity_search(query, k=15)\n",
        "for doc in result:\n",
        "  print(doc.metadata)\n",
        "  print(doc.id)\n",
        "  if len(doc.page_content) == 0 or (len(doc.page_content) < 20 and (re.search(\"\\w\\w-\\w+-\\w\\w\", doc.page_content) is None)) or( re.search(\"Comments:\\n________\", doc.page_content) is not None)  :\n",
        "    if (\"siig_manuals_txt\" in doc.metadata['source']) :\n",
        "      print(\"delete!!!!!-------\",doc.page_content)\n",
        "      #vectorstore.delete(ids=[doc.id])\n",
        "  else :\n",
        "    if (\"siig_manuals_txt\" in doc.metadata['source']) :\n",
        "      print(\"delete!!!!!-------\",doc.page_content)\n",
        "      #vectorstore.delete(ids=[doc.id])\n",
        "\n",
        "\n",
        "#uncomment this to add more docs to the vectorstore\n",
        "#vectorstore.add_documents(documents=docs)\n",
        "#print(docs[0])\n",
        "\n",
        "#vectorstore.delete(ids=['ebb3239e-18af-440e-98e4-eb025cf6e70a'])\n",
        "\n"
      ]
    },
    {
      "cell_type": "code",
      "execution_count": null,
      "metadata": {
        "id": "-bJH44c8jT1u"
      },
      "outputs": [],
      "source": [
        "from google.colab import drive\n",
        "drive.mount('/content/gdrive')\n",
        "context = \"\"\n",
        "with open(\"/content/gdrive/MyDrive/temp/CE-H23A11-S2.txt\", 'r') as f:\n",
        "  context = f.read()"
      ]
    },
    {
      "cell_type": "code",
      "execution_count": null,
      "metadata": {
        "id": "KkTASSmemh9g"
      },
      "outputs": [],
      "source": [
        "!pip install crawl4ai"
      ]
    },
    {
      "cell_type": "code",
      "execution_count": null,
      "metadata": {
        "colab": {
          "base_uri": "https://localhost:8080/"
        },
        "id": "tCM40HOdp-47",
        "outputId": "26224c3f-22ce-4a99-edda-08f138d07ba6"
      },
      "outputs": [
        {
          "name": "stdout",
          "output_type": "stream",
          "text": [
            "Fetching https://www.siig.com/search/CE-H28A11-S1 {'User-Agent': 'Mozilla/5.0 (Windows NT 10.0; Win64; x64) AppleWebKit/537.36 (KHTML, like Gecko) Chrome/91.0.4472.124 Safari/537.36'}\n",
            "<Response [200]>\n",
            "16655\n"
          ]
        }
      ],
      "source": [
        "#test scrape 1 URL and parse the text\n",
        "import requests\n",
        "from bs4 import BeautifulSoup\n",
        "from urllib.parse import urljoin, urlparse\n",
        "import time\n",
        "import os\n",
        "\n",
        "# Please verify that scraping https://help.sumologic.com/ complies with its robots.txt and terms of service before running.\n",
        "myheaders = {'User-Agent': 'Mozilla/5.0 (Windows NT 10.0; Win64; x64) AppleWebKit/537.36 (KHTML, like Gecko) Chrome/91.0.4472.124 Safari/537.36'}\n",
        "url = \"https://www.siig.com/search/CE-H28A11-S1\"\n",
        "if(1 > 0) :\n",
        "    try:\n",
        "        print(f\"Fetching {url}\", myheaders)\n",
        "        response = requests.get(url,headers=myheaders)\n",
        "        print(response)\n",
        "        if response.status_code != 200:\n",
        "            print(f\"Non-200 status code {response.status_code} for URL: {url}\")\n",
        "    except Exception as e:\n",
        "        print(f\"Error fetching {url}: {e}\")\n",
        "    soup = BeautifulSoup(response.content, \"html.parser\")\n",
        "    # Get visible text; you might want to customize this extraction.\n",
        "    #context = soup.get_text(separator=\"\\n\", strip=True)\n",
        "    context = soup.find('main').text.strip()\n",
        "    lines = context.splitlines()\n",
        "    processed_lines = [re.sub(r\"\\s+\", \" \", line).strip() for line in lines]\n",
        "    processed_lines = filter(lambda x: len(x) > 0, processed_lines)\n",
        "    context =  \"\\n\".join(processed_lines)\n",
        "    print(len(context))"
      ]
    },
    {
      "cell_type": "code",
      "execution_count": null,
      "metadata": {
        "id": "x4PldGcwrpCi"
      },
      "outputs": [],
      "source": [
        "print(context)"
      ]
    },
    {
      "cell_type": "code",
      "execution_count": null,
      "metadata": {
        "id": "cc9MyWA2RBAf"
      },
      "outputs": [],
      "source": [
        "from langchain_core.tools import tool\n",
        "\n",
        "# Simple web search tool\n",
        "@tool\n",
        "def web_search(query : str):\n",
        "    \"\"\"search web with query.\"\"\"\n",
        "    url = f\"https://www.google.com/search?q={query}\"\n",
        "    headers = {'User-Agent': 'Mozilla/5.0'}\n",
        "    response = requests.get(url, headers=headers)\n",
        "\n",
        "    soup = BeautifulSoup(response.text, 'html.parser')\n",
        "    results = []\n",
        "\n",
        "    for g in soup.find_all('div', class_='tF2Cxc')[:3]:  # top 3 results\n",
        "        title = g.find('h3').text\n",
        "        link = g.find('a')['href']\n",
        "        snippet = g.find('span', class_='aCOpRe').text if g.find('span', class_='aCOpRe') else \"\"\n",
        "\n",
        "        results.append({'title': title, 'link': link, 'snippet': snippet})\n",
        "\n",
        "    return results\n",
        "\n",
        "# Function definition for OpenAI API\n",
        "function_tools = [\n",
        "    {\n",
        "        \"type\": \"function\",\n",
        "        \"function\": {\n",
        "            \"name\": \"web_search\",\n",
        "            \"description\": \"Perform a web search and get the top 3 results.\",\n",
        "            \"parameters\": {\n",
        "                \"type\": \"object\",\n",
        "                \"properties\": {\n",
        "                    \"query\": {\"type\": \"string\", \"description\": \"The search query\"}\n",
        "                },\n",
        "                \"required\": [\"query\"]\n",
        "            }\n",
        "        }\n",
        "    }\n",
        "]\n"
      ]
    },
    {
      "cell_type": "code",
      "execution_count": null,
      "metadata": {
        "collapsed": true,
        "id": "XkWG2fbqqam1",
        "colab": {
          "base_uri": "https://localhost:8080/"
        },
        "outputId": "76531889-a22f-489d-dd88-68d42e593e5a"
      },
      "outputs": [
        {
          "output_type": "stream",
          "name": "stderr",
          "text": [
            "/usr/local/lib/python3.11/dist-packages/IPython/core/interactiveshell.py:3473: UserWarning: WARNING! tools is not default parameter.\n",
            "                tools was transferred to model_kwargs.\n",
            "                Please confirm that tools is what you intended.\n",
            "  if (await self.run_code(code, result,  async_=asy)):\n",
            "/usr/local/lib/python3.11/dist-packages/IPython/core/interactiveshell.py:3473: UserWarning: WARNING! tool_choice is not default parameter.\n",
            "                tool_choice was transferred to model_kwargs.\n",
            "                Please confirm that tool_choice is what you intended.\n",
            "  if (await self.run_code(code, result,  async_=asy)):\n"
          ]
        },
        {
          "output_type": "stream",
          "name": "stdout",
          "text": [
            "qa_prompt =  input_variables=['additional_context', 'chat_history', 'context', 'input'] input_types={'additional_context': list[typing.Annotated[typing.Union[typing.Annotated[langchain_core.messages.ai.AIMessage, Tag(tag='ai')], typing.Annotated[langchain_core.messages.human.HumanMessage, Tag(tag='human')], typing.Annotated[langchain_core.messages.chat.ChatMessage, Tag(tag='chat')], typing.Annotated[langchain_core.messages.system.SystemMessage, Tag(tag='system')], typing.Annotated[langchain_core.messages.function.FunctionMessage, Tag(tag='function')], typing.Annotated[langchain_core.messages.tool.ToolMessage, Tag(tag='tool')], typing.Annotated[langchain_core.messages.ai.AIMessageChunk, Tag(tag='AIMessageChunk')], typing.Annotated[langchain_core.messages.human.HumanMessageChunk, Tag(tag='HumanMessageChunk')], typing.Annotated[langchain_core.messages.chat.ChatMessageChunk, Tag(tag='ChatMessageChunk')], typing.Annotated[langchain_core.messages.system.SystemMessageChunk, Tag(tag='SystemMessageChunk')], typing.Annotated[langchain_core.messages.function.FunctionMessageChunk, Tag(tag='FunctionMessageChunk')], typing.Annotated[langchain_core.messages.tool.ToolMessageChunk, Tag(tag='ToolMessageChunk')]], FieldInfo(annotation=NoneType, required=True, discriminator=Discriminator(discriminator=<function _get_type at 0x79e84d0dbc40>, custom_error_type=None, custom_error_message=None, custom_error_context=None))]], 'chat_history': list[typing.Annotated[typing.Union[typing.Annotated[langchain_core.messages.ai.AIMessage, Tag(tag='ai')], typing.Annotated[langchain_core.messages.human.HumanMessage, Tag(tag='human')], typing.Annotated[langchain_core.messages.chat.ChatMessage, Tag(tag='chat')], typing.Annotated[langchain_core.messages.system.SystemMessage, Tag(tag='system')], typing.Annotated[langchain_core.messages.function.FunctionMessage, Tag(tag='function')], typing.Annotated[langchain_core.messages.tool.ToolMessage, Tag(tag='tool')], typing.Annotated[langchain_core.messages.ai.AIMessageChunk, Tag(tag='AIMessageChunk')], typing.Annotated[langchain_core.messages.human.HumanMessageChunk, Tag(tag='HumanMessageChunk')], typing.Annotated[langchain_core.messages.chat.ChatMessageChunk, Tag(tag='ChatMessageChunk')], typing.Annotated[langchain_core.messages.system.SystemMessageChunk, Tag(tag='SystemMessageChunk')], typing.Annotated[langchain_core.messages.function.FunctionMessageChunk, Tag(tag='FunctionMessageChunk')], typing.Annotated[langchain_core.messages.tool.ToolMessageChunk, Tag(tag='ToolMessageChunk')]], FieldInfo(annotation=NoneType, required=True, discriminator=Discriminator(discriminator=<function _get_type at 0x79e84d0dbc40>, custom_error_type=None, custom_error_message=None, custom_error_context=None))]]} partial_variables={} messages=[SystemMessagePromptTemplate(prompt=PromptTemplate(input_variables=['context'], input_types={}, partial_variables={}, template=\"Do not make up answer!     You are a professional customer service agent working for SIIG. Always be polite, clear, and helpful.    Use the following pieces of retrieved context to answer the question.     if you answer contains 'emailing us at [email protected]', replace it with 'email us at support@siig.com'    if you answer has an SIIG address that contains '6078 Stewart Avenue',  use this address instead -     'SIIG, 31038 Huntwood Ave., Hayward, CA 94544'     if you don't know the anwser, try to use the provided tool web_search to find more context     after you try all possible means, you still don't know the answer, say please visit our website https://siig.com or contact support at support@siig.com .     Try to keep the answer very accurate,  and if possible, make it concise.    {context}\"), additional_kwargs={}), MessagesPlaceholder(variable_name='additional_context'), MessagesPlaceholder(variable_name='chat_history'), HumanMessagePromptTemplate(prompt=PromptTemplate(input_variables=['input'], input_types={}, partial_variables={}, template='{input}'), additional_kwargs={})]\n",
            "\n",
            "Your question: what does gofanco sell?\n",
            "what does gofanco sell?\n",
            "-------------------\n",
            "content=\"Please provide the descriptions you would like summarized, and I'll be happy to help!\" additional_kwargs={'refusal': None} response_metadata={'token_usage': {'completion_tokens': 18, 'prompt_tokens': 66, 'total_tokens': 84, 'completion_tokens_details': {'accepted_prediction_tokens': 0, 'audio_tokens': 0, 'reasoning_tokens': 0, 'rejected_prediction_tokens': 0}, 'prompt_tokens_details': {'audio_tokens': 0, 'cached_tokens': 0}}, 'model_name': 'gpt-4o-2024-08-06', 'system_fingerprint': 'fp_6ec83003ad', 'id': 'chatcmpl-BDk1hMimDuvHsGm4oiSOQg8aZsn1P', 'finish_reason': 'stop', 'logprobs': None} id='run-6891cd3c-dc48-4a28-bb8e-0859cb3bb585-0' usage_metadata={'input_tokens': 66, 'output_tokens': 18, 'total_tokens': 84, 'input_token_details': {'audio': 0, 'cache_read': 0}, 'output_token_details': {'audio': 0, 'reasoning': 0}}\n",
            "-------------------\n",
            "{'input': 'what does gofanco sell?', 'chat_history': [], 'additional_context': [SystemMessage(content='', additional_kwargs={}, response_metadata={})], 'context': [Document(id='c006d776-caf4-4cbc-8090-496e7f978fb9', metadata={'source': '/content/gdrive/MyDrive/site_content/it-products_controllers-storage_serialata.html.txt'}, page_content='VGA\\nThunderbolt\\nAudio\\nStereo Cables\\nOptical Cables\\nFireWire\\nFireWire 800\\nWall Plates\\nAudio\\nAdapters\\nTest Equipment\\nHDMI\\nSDI\\nAccessories\\nPower Adapters\\nIR Extenders\\nAudio\\nON SALE\\nCLEARANCE\\nDISCONTINUED\\nTAA COMPLIANT\\nAudio/Video\\nITPRO\\nMTPRO\\nAV OVER IP SOLUTIONS\\nSOLUTIONS\\nHotel Lobby\\nClassroom\\nLecture Hall\\nRestaurants\\nSports Bar\\nSports Bar & Restaurant\\nDental Office\\nGame Play & Capture\\nHuddle Room\\nHouse of Worship\\nSports and Live Venues\\nHybrid Working Solutions\\nSUPPORT\\nRESOURCES\\nProduct Comparison Tables\\nDocking Stations\\nMST Hubs\\nKVM Switches/Extenders\\nPresentation Switches\\nAV over IP\\nVideo Walls\\nProduct Videos\\nCatalogs & Flyers\\nWhite Papers\\nCurrent Promotions\\nProduct Notices\\nPrivacy and Cookie Policy\\nOrders and Returns\\nBlog\\nSearch Terms\\nAdvanced Search\\nKnowledge Base\\nPartner Zone\\nWhere to Buy\\nDriver & Manuals\\nContact Us\\nAbout SIIG'), Document(id='c47938dd-b3b9-455d-8d8d-53fff8b91aa9', metadata={'source': '/content/gdrive/MyDrive/site_content/av-products_accessories-av_audio.html.txt'}, page_content='VGA\\nThunderbolt\\nAudio\\nStereo Cables\\nOptical Cables\\nFireWire\\nFireWire 800\\nWall Plates\\nAudio\\nAdapters\\nTest Equipment\\nHDMI\\nSDI\\nAccessories\\nPower Adapters\\nIR Extenders\\nAudio\\nON SALE\\nCLEARANCE\\nDISCONTINUED\\nTAA COMPLIANT\\nAudio/Video\\nITPRO\\nMTPRO\\nAV OVER IP SOLUTIONS\\nSOLUTIONS\\nHotel Lobby\\nClassroom\\nLecture Hall\\nRestaurants\\nSports Bar\\nSports Bar & Restaurant\\nDental Office\\nGame Play & Capture\\nHuddle Room\\nHouse of Worship\\nSports and Live Venues\\nHybrid Working Solutions\\nSUPPORT\\nRESOURCES\\nProduct Comparison Tables\\nDocking Stations\\nMST Hubs\\nKVM Switches/Extenders\\nPresentation Switches\\nAV over IP\\nVideo Walls\\nProduct Videos\\nCatalogs & Flyers\\nWhite Papers\\nCurrent Promotions\\nProduct Notices\\nPrivacy and Cookie Policy\\nOrders and Returns\\nBlog\\nSearch Terms\\nAdvanced Search\\nKnowledge Base\\nPartner Zone\\nWhere to Buy\\nDriver & Manuals\\nContact Us\\nAbout SIIG'), Document(id='1d699023-a23b-472a-8358-f7321891dba0', metadata={'source': '/content/gdrive/MyDrive/site_content/catalog_category_view_s_hdcp-converters_id_423.txt'}, page_content='VGA\\nThunderbolt\\nAudio\\nStereo Cables\\nOptical Cables\\nFireWire\\nFireWire 800\\nWall Plates\\nAudio\\nAdapters\\nTest Equipment\\nHDMI\\nSDI\\nAccessories\\nPower Adapters\\nIR Extenders\\nAudio\\nON SALE\\nCLEARANCE\\nDISCONTINUED\\nTAA COMPLIANT\\nAudio/Video\\nITPRO\\nMTPRO\\nAV OVER IP SOLUTIONS\\nSOLUTIONS\\nHotel Lobby\\nClassroom\\nLecture Hall\\nRestaurants\\nSports Bar\\nSports Bar & Restaurant\\nDental Office\\nGame Play & Capture\\nHuddle Room\\nHouse of Worship\\nSports and Live Venues\\nHybrid Working Solutions\\nSUPPORT\\nRESOURCES\\nProduct Comparison Tables\\nDocking Stations\\nMST Hubs\\nKVM Switches/Extenders\\nPresentation Switches\\nAV over IP\\nVideo Walls\\nProduct Videos\\nCatalogs & Flyers\\nWhite Papers\\nCurrent Promotions\\nProduct Notices\\nPrivacy and Cookie Policy\\nOrders and Returns\\nBlog\\nSearch Terms\\nAdvanced Search\\nKnowledge Base\\nPartner Zone\\nWhere to Buy\\nDriver & Manuals\\nContact Us\\nAbout SIIG'), Document(id='e11181c1-98ba-4b8a-993b-5d0d4bc6cce9', metadata={'source': '/content/gdrive/MyDrive/site_content/it-products_controllers-storage_serialata.html.txt'}, page_content='VGA\\nThunderbolt\\nAudio\\nStereo Cables\\nOptical Cables\\nFireWire\\nFireWire 800\\nWall Plates\\nAudio\\nAdapters\\nTest Equipment\\nHDMI\\nSDI\\nAccessories\\nPower Adapters\\nIR Extenders\\nAudio\\nON SALE\\nCLEARANCE\\nDISCONTINUED\\nTAA COMPLIANT\\nAudio/Video\\nITPRO\\nMTPRO\\nAV OVER IP SOLUTIONS\\nSOLUTIONS\\nHotel Lobby\\nClassroom\\nLecture Hall\\nRestaurants\\nSports Bar\\nSports Bar & Restaurant\\nDental Office\\nGame Play & Capture\\nHuddle Room\\nHouse of Worship\\nSports and Live Venues\\nHybrid Working Solutions\\nSUPPORT\\nRESOURCES\\nProduct Comparison Tables\\nDocking Stations\\nMST Hubs\\nKVM Switches/Extenders\\nPresentation Switches\\nAV over IP\\nVideo Walls\\nProduct Videos\\nCatalogs & Flyers\\nWhite Papers\\nCurrent Promotions\\nProduct Notices\\nPrivacy and Cookie Policy\\nOrders and Returns\\nBlog\\nSearch Terms\\nAdvanced Search\\nKnowledge Base\\nPartner Zone\\nWhere to Buy\\nDriver & Manuals\\nContact Us\\nAbout SIIG'), Document(id='1c703168-105a-49ec-b258-1891b892fecc', metadata={'source': '/content/gdrive/MyDrive/site_content/av-products_splitters-distribution-amplifiers_mini-displayport.html.txt'}, page_content='VGA\\nThunderbolt\\nAudio\\nStereo Cables\\nOptical Cables\\nFireWire\\nFireWire 800\\nWall Plates\\nAudio\\nAdapters\\nTest Equipment\\nHDMI\\nSDI\\nAccessories\\nPower Adapters\\nIR Extenders\\nAudio\\nON SALE\\nCLEARANCE\\nDISCONTINUED\\nTAA COMPLIANT\\nAudio/Video\\nITPRO\\nMTPRO\\nAV OVER IP SOLUTIONS\\nSOLUTIONS\\nHotel Lobby\\nClassroom\\nLecture Hall\\nRestaurants\\nSports Bar\\nSports Bar & Restaurant\\nDental Office\\nGame Play & Capture\\nHuddle Room\\nHouse of Worship\\nSports and Live Venues\\nHybrid Working Solutions\\nSUPPORT\\nRESOURCES\\nProduct Comparison Tables\\nDocking Stations\\nMST Hubs\\nKVM Switches/Extenders\\nPresentation Switches\\nAV over IP\\nVideo Walls\\nProduct Videos\\nCatalogs & Flyers\\nWhite Papers\\nCurrent Promotions\\nProduct Notices\\nPrivacy and Cookie Policy\\nOrders and Returns\\nBlog\\nSearch Terms\\nAdvanced Search\\nKnowledge Base\\nPartner Zone\\nWhere to Buy\\nDriver & Manuals\\nContact Us\\nAbout SIIG'), Document(id='01324b35-6a4a-448a-9bc1-8eea3fa2434a', metadata={'source': '/content/gdrive/MyDrive/site_content/products_it-products_usb-a-usb-c_docking.html.txt'}, page_content='VGA\\nThunderbolt\\nAudio\\nStereo Cables\\nOptical Cables\\nFireWire\\nFireWire 800\\nWall Plates\\nAudio\\nAdapters\\nTest Equipment\\nHDMI\\nSDI\\nAccessories\\nPower Adapters\\nIR Extenders\\nAudio\\nON SALE\\nCLEARANCE\\nDISCONTINUED\\nTAA COMPLIANT\\nAudio/Video\\nITPRO\\nMTPRO\\nAV OVER IP SOLUTIONS\\nSOLUTIONS\\nHotel Lobby\\nClassroom\\nLecture Hall\\nRestaurants\\nSports Bar\\nSports Bar & Restaurant\\nDental Office\\nGame Play & Capture\\nHuddle Room\\nHouse of Worship\\nSports and Live Venues\\nHybrid Working Solutions\\nSUPPORT\\nRESOURCES\\nProduct Comparison Tables\\nDocking Stations\\nMST Hubs\\nKVM Switches/Extenders\\nPresentation Switches\\nAV over IP\\nVideo Walls\\nProduct Videos\\nCatalogs & Flyers\\nWhite Papers\\nCurrent Promotions\\nProduct Notices\\nPrivacy and Cookie Policy\\nOrders and Returns\\nBlog\\nSearch Terms\\nAdvanced Search\\nKnowledge Base\\nPartner Zone\\nWhere to Buy\\nDriver & Manuals\\nContact Us\\nAbout SIIG'), Document(id='60b8933b-d358-4899-8a4b-4d5f6289bcd6', metadata={'source': '/content/gdrive/MyDrive/site_content/av-products_converters_mini-displayport-to_displayport.html.txt'}, page_content='VGA\\nThunderbolt\\nAudio\\nStereo Cables\\nOptical Cables\\nFireWire\\nFireWire 800\\nWall Plates\\nAudio\\nAdapters\\nTest Equipment\\nHDMI\\nSDI\\nAccessories\\nPower Adapters\\nIR Extenders\\nAudio\\nON SALE\\nCLEARANCE\\nDISCONTINUED\\nTAA COMPLIANT\\nAudio/Video\\nITPRO\\nMTPRO\\nAV OVER IP SOLUTIONS\\nSOLUTIONS\\nHotel Lobby\\nClassroom\\nLecture Hall\\nRestaurants\\nSports Bar\\nSports Bar & Restaurant\\nDental Office\\nGame Play & Capture\\nHuddle Room\\nHouse of Worship\\nSports and Live Venues\\nHybrid Working Solutions\\nSUPPORT\\nRESOURCES\\nProduct Comparison Tables\\nDocking Stations\\nMST Hubs\\nKVM Switches/Extenders\\nPresentation Switches\\nAV over IP\\nVideo Walls\\nProduct Videos\\nCatalogs & Flyers\\nWhite Papers\\nCurrent Promotions\\nProduct Notices\\nPrivacy and Cookie Policy\\nOrders and Returns\\nBlog\\nSearch Terms\\nAdvanced Search\\nKnowledge Base\\nPartner Zone\\nWhere to Buy\\nDriver & Manuals\\nContact Us\\nAbout SIIG'), Document(id='8f0103b3-0f39-4309-99f0-7254c0e5065f', metadata={'source': '/content/gdrive/MyDrive/site_content/av-products_wall-mounts_accessories.html.txt'}, page_content='VGA\\nThunderbolt\\nAudio\\nStereo Cables\\nOptical Cables\\nFireWire\\nFireWire 800\\nWall Plates\\nAudio\\nAdapters\\nTest Equipment\\nHDMI\\nSDI\\nAccessories\\nPower Adapters\\nIR Extenders\\nAudio\\nON SALE\\nCLEARANCE\\nDISCONTINUED\\nTAA COMPLIANT\\nAudio/Video\\nITPRO\\nMTPRO\\nAV OVER IP SOLUTIONS\\nSOLUTIONS\\nHotel Lobby\\nClassroom\\nLecture Hall\\nRestaurants\\nSports Bar\\nSports Bar & Restaurant\\nDental Office\\nGame Play & Capture\\nHuddle Room\\nHouse of Worship\\nSports and Live Venues\\nHybrid Working Solutions\\nSUPPORT\\nRESOURCES\\nProduct Comparison Tables\\nDocking Stations\\nMST Hubs\\nKVM Switches/Extenders\\nPresentation Switches\\nAV over IP\\nVideo Walls\\nProduct Videos\\nCatalogs & Flyers\\nWhite Papers\\nCurrent Promotions\\nProduct Notices\\nPrivacy and Cookie Policy\\nOrders and Returns\\nBlog\\nSearch Terms\\nAdvanced Search\\nKnowledge Base\\nPartner Zone\\nWhere to Buy\\nDriver & Manuals\\nContact Us\\nAbout SIIG'), Document(id='6cb20cce-0890-42e3-941d-baf06916f7b6', metadata={'source': '/content/gdrive/MyDrive/site_content/av-products_converters_hdmi-to_displayport.html.txt'}, page_content='VGA\\nThunderbolt\\nAudio\\nStereo Cables\\nOptical Cables\\nFireWire\\nFireWire 800\\nWall Plates\\nAudio\\nAdapters\\nTest Equipment\\nHDMI\\nSDI\\nAccessories\\nPower Adapters\\nIR Extenders\\nAudio\\nON SALE\\nCLEARANCE\\nDISCONTINUED\\nTAA COMPLIANT\\nAudio/Video\\nITPRO\\nMTPRO\\nAV OVER IP SOLUTIONS\\nSOLUTIONS\\nHotel Lobby\\nClassroom\\nLecture Hall\\nRestaurants\\nSports Bar\\nSports Bar & Restaurant\\nDental Office\\nGame Play & Capture\\nHuddle Room\\nHouse of Worship\\nSports and Live Venues\\nHybrid Working Solutions\\nSUPPORT\\nRESOURCES\\nProduct Comparison Tables\\nDocking Stations\\nMST Hubs\\nKVM Switches/Extenders\\nPresentation Switches\\nAV over IP\\nVideo Walls\\nProduct Videos\\nCatalogs & Flyers\\nWhite Papers\\nCurrent Promotions\\nProduct Notices\\nPrivacy and Cookie Policy\\nOrders and Returns\\nBlog\\nSearch Terms\\nAdvanced Search\\nKnowledge Base\\nPartner Zone\\nWhere to Buy\\nDriver & Manuals\\nContact Us\\nAbout SIIG'), Document(id='da20e141-e105-4327-820f-26af69f2ea22', metadata={'source': '/content/gdrive/MyDrive/site_content/products_it-products_notebook-addons_usb-c-power-delivery_100w-gan-pd-combo-charger-2c1a.html.txt'}, page_content='Advanced GaN 3 Technology\\nNew Gallium Nitride (GaN) 3 Pro semiconductor material, low heat temperature, smaller size, higher charging efficiency, allows for power devices can operate at higher voltages and switching frequency which is more powerful and durable, provide multiple protection inside protects your devices against over current, short circuit and over voltage\\nSmaller Size, Foldable Plug\\nWith a foldable plug and compact design, this charger is perfect for on-the-go use and travel\\nYou Can Charge 3 Devices at once\\nConcise Use\\nBroad Compatibility\\nThe USB Type-C charging box is not only suitable for various systems such as iOS of Apple products, Android as well as Windows, but also supports USB devices, such as smartphones and laptops with USB-C ports, tablets, Switch, game consoles, cameras and more Cellphone accessories. Moreover, it works well with USB-C to USB-C cord, USB-C to USB-A power cable, USB-C to iPhone charger cable...etc\\nComparison Table\\nAC-PW1Z11-S1\\nAC-PW1F12-S1'), Document(id='890e9bd7-ef79-41c8-ad58-567675810eb8', metadata={'source': '/content/gdrive/MyDrive/site_content/dual-aluminum-heavy-duty-mount-with-usb-and-audio-ports-35.html.txt'}, page_content='45-day return window and money-back guarantee\\nOverview\\nFeatures\\nApplications\\nNeed to Know Before Buying\\nOverview\\nGas spring assisted full-motion (tilt, swivel, rotate, and height adjustment) articulating dual monitor desk mount with USB and audio ports, Up to 43\" Monitor, Weight up to 44 lbs each,  Quick Access USB-A 5Gbps & Audio Port, Flexiable & Free Adjustment, Cable Management, Detachable VESA Plate, C-clamp and Grommet, Tool Organizer, VESA Pattern 75x75mm, 100x100mm, 200x200mm\\nFeatures\\nCreate your ideal dual monitors setup with gas spring arms, supports up to two 43” monitors. This versatile and ergonomic solution is perfect for both the office and home use, allowing you to create a comfortable, a clean desk, and efficient workspace that maximize your productivity\\nPerfect for Heavy Duty Monitor Up to 43 Inches'), Document(id='0ac7a635-4177-4c58-83cc-9cc8d950c718', metadata={'source': '/content/gdrive/MyDrive/site_content/search_mini keyboard key.txt'}, page_content='VGA\\nThunderbolt\\nAudio\\nStereo Cables\\nOptical Cables\\nFireWire\\nFireWire 800\\nWall Plates\\nAudio\\nAdapters\\nTest Equipment\\nHDMI\\nSDI\\nAccessories\\nPower Adapters\\nIR Extenders\\nAudio\\nON SALE\\nCLEARANCE\\nDISCONTINUED\\nPrivacy and Cookie Policy\\nOrders and Returns\\nBlog\\nSearch Terms\\nAdvanced Search\\nKnowledge Base\\nPartner Zone\\nWhere to Buy\\nDriver & Manuals\\nContact Us\\nAbout SIIG\\nSince 1985, SIIG Inc. has led the way in creating IT and AV connectivity solutions you can trust. Built on core values of professional integrity with customer satisfaction as the focus point, our company is committed to providing top-notch service, support, and product solutions that elevate your AV and IT user experience. As our 30+ year legacy continues, our team will diligently contribute insights and add unique value to various industry markets on how people can better connect with technology.\\nlearn more...\\nIT Products\\nSerial/Parallel\\nIndustrial I/O\\nDevice Servers\\nUSB\\nFireWire\\nControllers/Storage\\nCables\\nMultimedia\\nKeyboards\\nMice'), Document(id='d1c1e1ad-6a5c-4727-8bad-16f5b6df61be', metadata={'source': '/content/gdrive/MyDrive/site_content/search_triple monitor mount.txt'}, page_content='VGA\\nThunderbolt\\nAudio\\nStereo Cables\\nOptical Cables\\nFireWire\\nFireWire 800\\nWall Plates\\nAudio\\nAdapters\\nTest Equipment\\nHDMI\\nSDI\\nAccessories\\nPower Adapters\\nIR Extenders\\nAudio\\nON SALE\\nCLEARANCE\\nDISCONTINUED\\nPrivacy and Cookie Policy\\nOrders and Returns\\nBlog\\nSearch Terms\\nAdvanced Search\\nKnowledge Base\\nPartner Zone\\nWhere to Buy\\nDriver & Manuals\\nContact Us\\nAbout SIIG\\nSince 1985, SIIG Inc. has led the way in creating IT and AV connectivity solutions you can trust. Built on core values of professional integrity with customer satisfaction as the focus point, our company is committed to providing top-notch service, support, and product solutions that elevate your AV and IT user experience. As our 30+ year legacy continues, our team will diligently contribute insights and add unique value to various industry markets on how people can better connect with technology.\\nlearn more...\\nIT Products\\nSerial/Parallel\\nIndustrial I/O\\nDevice Servers\\nUSB\\nFireWire\\nControllers/Storage\\nCables\\nMultimedia\\nKeyboards\\nMice'), Document(id='bc211b40-9fd8-4ef2-8527-6d4b7ad87a54', metadata={'source': '/content/gdrive/MyDrive/site_content/search_HDMI Splitter Over Cat6 Extender with Loopout, IR, ARC & RS-232.txt'}, page_content='Audio Products\\nConverters\\nSplitters\\nSwitches\\nCables/Adapters\\nHDMI to\\nHDMI\\nDVI\\nVGA\\nDisplayPort\\nUSB-C\\nDisplayPort to\\nHDMI\\nDVI\\nDisplayPort\\nVGA\\nThunderbolt\\nAudio\\nStereo Cables\\nOptical Cables\\nFireWire\\nFireWire 800\\nWall Plates\\nAudio\\nAdapters\\nTest Equipment\\nHDMI\\nSDI\\nAccessories\\nPower Adapters\\nIR Extenders\\nAudio\\nON SALE\\nCLEARANCE\\nDISCONTINUED\\nPrivacy and Cookie Policy\\nOrders and Returns\\nBlog\\nSearch Terms\\nAdvanced Search\\nKnowledge Base\\nPartner Zone\\nWhere to Buy\\nDriver & Manuals\\nContact Us\\nAbout SIIG\\nSince 1985, SIIG Inc. has led the way in creating IT and AV connectivity solutions you can trust. Built on core values of professional integrity with customer satisfaction as the focus point, our company is committed to providing top-notch service, support, and product solutions that elevate your AV and IT user experience. As our 30+ year legacy continues, our team will diligently contribute insights and add unique value to various industry markets on how people can better connect with technology.'), Document(id='eb9f76a3-14fc-475c-a04a-8126639de76d', metadata={'source': '/content/gdrive/MyDrive/site_content/products_it-products_ipad-tablet-accessories_mounts_security-countertop-kiosk-pos-stand-for-ipad.html.txt'}, page_content='White Papers\\nCurrent Promotions\\nProduct Notices\\nAbout Us\\nSkip to the end of the images gallery\\nSkip to the beginning of the images gallery\\nSecurity Countertop Kiosk & POS Stand for iPad\\nSafely and securely mounts your iPad onto a countertop Kiosk or POS stand\\nIn stock\\nQuantity in stock:\\n263\\nSKU\\nCE-MT2611-S1\\n$89.99\\nQty\\nAdd to Cart\\nAdd to Wish List\\nAdd to Compare\\nEmail\\nJoin our free Membership Program and save 5% off every order\\nWe ship all orders within 1 business day\\nContact us now for more information about our products\\nLifetime technical support on all of our products\\n45-day return window and money-back guarantee\\nOverview\\nFeatures\\nFeatures\\nRetail\\'s Best Solution For Tablet Safety Use On Countertop.\\nScreen Size : 9.7\" (Not compatible with iPad Gen7 10.2\"&IPad Air 10.9\")\\nStand Material : Metal\\nNon-Theft Lock Design\\nBolted base and lockable key keeps ipad secure for restaurants, retail store, school, office, POS kiosk or commercial use\\nExclusive Use For Ipad 9.7 inch\\nTamper-proof Design')], 'answer': ''}\n",
            "None\n",
            "\n",
            "Answer: \n",
            "\n",
            "Your question: exit\n",
            "Goodbye!\n"
          ]
        }
      ],
      "source": [
        "#Test AI chatbot server side\n",
        "import requests\n",
        "from bs4 import BeautifulSoup\n",
        "from langchain.chains.combine_documents import create_stuff_documents_chain\n",
        "from langchain_core.messages import HumanMessage, SystemMessage\n",
        "from langchain.chains import create_history_aware_retriever\n",
        "import re\n",
        "\n",
        "product_pages = {}\n",
        "\n",
        "def retrieve_page(part_num : str) :\n",
        "  #check if we already have this part number already\n",
        "  if part_num in product_pages : return product_pages[part_num]\n",
        "\n",
        "  myheaders = {'User-Agent': 'Mozilla/5.0 (Windows NT 10.0; Win64; x64) AppleWebKit/537.36 (KHTML, like Gecko) Chrome/91.0.4472.124 Safari/537.36'}\n",
        "  url = \"https://www.siig.com/search/\" + part_num\n",
        "  if(1 > 0) :\n",
        "    try:\n",
        "        print(f\"Fetching {url}\", myheaders)\n",
        "        response = requests.get(url,headers=myheaders)\n",
        "        print(response)\n",
        "        if response.status_code != 200:\n",
        "            print(f\"Non-200 status code {response.status_code} for URL: {url}\")\n",
        "    except Exception as e:\n",
        "        print(f\"Error fetching {url}: {e}\")\n",
        "    soup = BeautifulSoup(response.content, \"html.parser\")\n",
        "    # Get visible text; you might want to customize this extraction.\n",
        "    #context = soup.get_text(separator=\"\\n\", strip=True)\n",
        "    pcontent = soup.find('main').text.strip()\n",
        "    lines = pcontent.splitlines()\n",
        "    processed_lines = [re.sub(r\"\\s+\", \" \", line).strip() for line in lines]\n",
        "    processed_lines = filter(lambda x: len(x) > 0, processed_lines)\n",
        "    pcontent =  \"\\n\".join(processed_lines)\n",
        "    #only keep the first 6000 characters\n",
        "    print(len(pcontent))\n",
        "    if len(pcontent) > 6000 :\n",
        "      pcontent = pcontent[:6000]\n",
        "\n",
        "    product_pages[part_num] = pcontent\n",
        "    return pcontent\n",
        "\n",
        "def get_additional_context(qqq : str) :\n",
        "  part_nums = re.findall(\"\\w\\w-\\w+-\\w\\w\", qqq)\n",
        "  more_contexts = \"\"\n",
        "  part_nums = list(set(part_nums))\n",
        "  for part_num in part_nums:\n",
        "    page = retrieve_page(part_num)\n",
        "    more_contexts = f\"SKU or part number : {part_num} , \" + page\n",
        "  return more_contexts\n",
        "\n",
        "\n",
        "if (1>0):\n",
        "    # create history aware retriever and qa_chain\n",
        "    #llm = ChatOpenAI(model=\"gpt-4o\", temperature=0,openai_api_key=userdata.get('OPENAI_API_KEY') )\n",
        "    llm = ChatOpenAI(model=\"gpt-4o\", temperature=0,openai_api_key=userdata.get('OPENAI_API_KEY'),tools =function_tools,tool_choice=\"auto\")\n",
        "    #tools = [web_search]\n",
        "    #llm_with_tools = llm.bind_tools(tools)\n",
        "    #msg1 = llm_with_tools.invoke(\"what is the difference between CE-H23A11-S2 and CE-H23B11-S2\")\n",
        "    #print(msg1.tool_calls)\n",
        "    retriever = vectorstore.as_retriever(search_type=\"similarity\", search_kwargs={\"k\": 15})\n",
        "\n",
        "    contextualize_q_system_prompt = \"\"\"Given a chat history and the latest user question \\\n",
        "    which might reference context in the chat history, formulate a standalone question \\\n",
        "    which can be understood without the chat history. Do NOT answer the question, \\\n",
        "    just reformulate it if needed and otherwise return it as is.\"\"\"\n",
        "    contextualize_q_prompt = ChatPromptTemplate.from_messages(\n",
        "        [\n",
        "            (\"system\", contextualize_q_system_prompt),\n",
        "            MessagesPlaceholder(\"chat_history\"),\n",
        "            (\"human\", \"{input}\"),\n",
        "        ]\n",
        "    )\n",
        "    history_aware_retriever = create_history_aware_retriever(\n",
        "        llm, retriever, contextualize_q_prompt\n",
        "    )\n",
        "\n",
        "    #If you don't know the answer, try using the web_search tool provided to search for info on the web, and use the search results as the context to respond\n",
        "    textual_description_of_tool=\"\"\"\n",
        "    web_search(query: str) :\n",
        "        Perform a web search and get the top 3 results.\n",
        "\n",
        "        Args:\n",
        "            query: The search query (string).\n",
        "\n",
        "        Returns:\n",
        "            A list of strings containing the search result snippets\n",
        "    \"\"\"\n",
        "    qa_system_prompt = \"\"\"Do not make up answer! \\\n",
        "    You are a professional customer service agent working for SIIG. Always be polite, clear, and helpful.\\\n",
        "    Use the following pieces of retrieved context to answer the question. \\\n",
        "    if you answer contains 'emailing us at [email protected]', replace it with 'email us at support@siig.com'\\\n",
        "    if you answer has an SIIG address that contains '6078 Stewart Avenue',  use this address instead - \\\n",
        "    'SIIG, 31038 Huntwood Ave., Hayward, CA 94544' \\\n",
        "    if you don't know the anwser, try to use the provided tool web_search to find more context \\\n",
        "    after you try all possible means, you still don't know the answer, say please visit our website https://siig.com or contact support at support@siig.com . \\\n",
        "    Try to keep the answer very accurate,  and if possible, make it concise.\\\n",
        "    {context}\"\"\"\n",
        "\n",
        "    qa_prompt = ChatPromptTemplate.from_messages(\n",
        "        [\n",
        "            (\"system\", qa_system_prompt),\n",
        "            MessagesPlaceholder(\"additional_context\"),\n",
        "            MessagesPlaceholder(\"chat_history\"),\n",
        "            (\"human\", \"{input}\"),\n",
        "        ]\n",
        "    )\n",
        "\n",
        "    print(\"qa_prompt = \", qa_prompt)\n",
        "    question_answer_chain = create_stuff_documents_chain(llm, qa_prompt)\n",
        "    qa_chain = create_retrieval_chain(history_aware_retriever, question_answer_chain)\n",
        "    chat_history = []\n",
        "\n",
        "    while True:\n",
        "      query = input(\"\\nYour question: \")\n",
        "      if query.lower() in [\"exit\", \"quit\"]:\n",
        "        print(\"Goodbye!\")\n",
        "        break\n",
        "      try:\n",
        "        #print(qa_chain)\n",
        "        print(query)\n",
        "        chat_history_string = \" \".join([f\"{msg}\" for msg in chat_history])\n",
        "        #print(chat_history_string)\n",
        "        additional = get_additional_context(query+chat_history_string)\n",
        "\n",
        "        print(\"-------------------\")\n",
        "        print(llm.invoke(\"summarize these descriptions to less than 300 words :\"+additional))\n",
        "        print(\"-------------------\")\n",
        "        #print(additional)\n",
        "        #answer = qa_chain.run(query)\n",
        "        #chat_history = get_session_history(sessionid)\n",
        "        ai_msg_1 =qa_chain.invoke({\"input\": query, \"chat_history\": chat_history,\"additional_context\":[SystemMessage(additional)]})\n",
        "\n",
        "        print(ai_msg_1)\n",
        "        print(ai_msg_1.get(\"tool_calls\"))\n",
        "        #print(ai_msg_1[\"answer\"])\n",
        "        chat_history.extend([HumanMessage(content=query), ai_msg_1[\"answer\"]])\n",
        "        #update_session(sessionid,chat_history)\n",
        "        answer = ai_msg_1[\"answer\"]\n",
        "        #print(\"\\nchat history:\",  chat_history)\n",
        "        print(\"\\nAnswer:\", answer)\n",
        "      except Exception as e:\n",
        "        answer = \"Sorry, an error occurred:\"+str(e)\n",
        "        print(\"\\nAnswer:\", answer)"
      ]
    },
    {
      "cell_type": "code",
      "source": [
        "harryp_qa_dict = {}\n",
        "harryp_qa_dict['question'] = \"what is the color\"\n",
        "harryp_qa_dict['answers'] = [\"red\",\"blue\",\"white\"]\n",
        "harryp_qa_dict['probabilitioes'] = []\n",
        "harryp_qa_dict['question2'] = \"what is the shape\"\n",
        "harryp_qa_dict['answer2'] = \"round\"\n",
        "\n",
        "\n",
        "total_p =0\n",
        "for i in (8) :\n",
        "\n",
        "  # randomly pick a question form list of 20 questions\n",
        "\n",
        "  # add to a set\n",
        "\n",
        "  # text to speechl, ask user\n",
        "\n",
        "  # record natural language response\n",
        "\n",
        "  # speech to text -> store in user_input\n",
        "\n",
        "  # give context/prompt (chosen question, answer, probabilities) + user_input + append \"give me the answer choice\"\n",
        "\n",
        "  # llm returns the choice\n",
        "\n",
        "  # calculate probability based on the answer choice - find the probability from the choice\n",
        "\n"
      ],
      "metadata": {
        "id": "UwI5pFK3n3JF"
      },
      "execution_count": null,
      "outputs": []
    },
    {
      "cell_type": "code",
      "source": [],
      "metadata": {
        "id": "n1pygQGF5MMT"
      },
      "execution_count": null,
      "outputs": []
    },
    {
      "cell_type": "code",
      "execution_count": null,
      "metadata": {
        "id": "FliN9hUbJavZ"
      },
      "outputs": [],
      "source": [
        "dual_context = get_additional_context(\"what is the difference between CE-H23A11-S2 and CE-H23B11-S2\")\n",
        "print(dual_context)\n"
      ]
    },
    {
      "cell_type": "code",
      "execution_count": null,
      "metadata": {
        "id": "S2FyZB44YZwA"
      },
      "outputs": [],
      "source": [
        "#test gpt4o only without RAG\n",
        "\n",
        "query = \"what is the difference between CE-H23A11-S2 and CE-H23B11-S2\"\n",
        "llm = ChatOpenAI(model=\"gpt-4o\", temperature=0,openai_api_key=userdata.get('OPENAI_API_KEY'))\n",
        "\n",
        "chat_history = []\n",
        "system_prompt = (\n",
        "    \"Context: {chat_history}\"\n",
        ")\n",
        "while True:\n",
        "  query = input(\"\\nYour question: \")\n",
        "  if query.lower() in [\"exit\", \"quit\"]:\n",
        "    print(\"Goodbye!\")\n",
        "    break\n",
        "  try:\n",
        "    messages =  [\n",
        "        (\"system\", context),\n",
        "        (\"human\", query),\n",
        "      ]\n",
        "\n",
        "    answer = llm.invoke(messages)\n",
        "    print(\"\\nAnswer:\", answer)\n",
        "    chat_history.extend([HumanMessage(content=query), answer])\n",
        "  except Exception as e:\n",
        "    print(\"Sorry, an error occurred:\", e)"
      ]
    },
    {
      "cell_type": "code",
      "execution_count": null,
      "metadata": {
        "colab": {
          "base_uri": "https://localhost:8080/"
        },
        "id": "n7VzidjLIBcu",
        "outputId": "6f3f0fc8-672b-419f-a509-2f31d7d1eba0"
      },
      "outputs": [
        {
          "name": "stdout",
          "output_type": "stream",
          "text": [
            "  Preparing metadata (setup.py) ... \u001b[?25l\u001b[?25hdone\n",
            "  Building wheel for google-search-results (setup.py) ... \u001b[?25l\u001b[?25hdone\n"
          ]
        }
      ],
      "source": [
        "!pip install -q google-search-results"
      ]
    },
    {
      "cell_type": "code",
      "execution_count": null,
      "metadata": {
        "id": "A1zuYMgzH_Wb"
      },
      "outputs": [],
      "source": [
        "#test google search with serpapi\n",
        "from serpapi import GoogleSearch\n",
        "\n",
        "params = {\n",
        "  \"api_key\": \"???\",\n",
        "  \"engine\": \"google\",\n",
        "  \"q\": \"what is the difference between ID-US0B11-S3 and ID-US0C11-S1\",\n",
        "  \"google_domain\": \"google.com\",\n",
        "  \"gl\": \"us\",\n",
        "  \"hl\": \"en\"\n",
        "}\n",
        "\n",
        "search = GoogleSearch(params)\n",
        "results = search.get_dict()"
      ]
    },
    {
      "cell_type": "code",
      "execution_count": null,
      "metadata": {
        "colab": {
          "base_uri": "https://localhost:8080/"
        },
        "id": "_azNEEkgIa45",
        "outputId": "51b29098-b225-413a-9f9d-9c63a3e7d71c"
      },
      "outputs": [
        {
          "name": "stdout",
          "output_type": "stream",
          "text": [
            "{'position': 1, 'title': 'Power Charging - Power - IT PRODUCTS', 'link': 'https://www.siig.com/products/it-products/power/power-charging.html?srsltid=AfmBOoqwYjBdgNmzxCqXB25GAz_yxNWOxPN8D2OOM8A4iSzYzcotv0KT', 'redirect_link': 'https://www.google.com/url?sa=t&source=web&rct=j&opi=89978449&url=https://www.siig.com/products/it-products/power/power-charging.html%3Fsrsltid%3DAfmBOoqwYjBdgNmzxCqXB25GAz_yxNWOxPN8D2OOM8A4iSzYzcotv0KT&ved=2ahUKEwihpqnLhdaLAxVKna8BHZgDIzQQFnoECBgQAQ', 'displayed_link': 'https://www.siig.com › products › power-charging', 'favicon': 'https://serpapi.com/searches/67b91ce863c076c360aadf7e/images/a326a0677a12a970c867494fef4ca48b1f160b9ff56c7dad459585443e2476e0.png', 'snippet': 'ID-US0B11-S3. Industrial Grade USB-C 5Gbps Hub & PD Charging Station - 600W, Adds 16 USB-C Charging Ports, 2-port 100W & 14-port Charging ...', 'snippet_highlighted_words': ['Industrial Grade USB-C 5Gbps Hub & PD Charging Station'], 'source': 'SIIG, Inc.'}\n"
          ]
        }
      ],
      "source": [
        "print(results['organic_results'][0])"
      ]
    },
    {
      "cell_type": "code",
      "execution_count": null,
      "metadata": {
        "colab": {
          "base_uri": "https://localhost:8080/"
        },
        "id": "6YRacr4LhBAh",
        "outputId": "3cdb37cf-6aac-47a0-887e-1ab98d438d06"
      },
      "outputs": [
        {
          "name": "stdout",
          "output_type": "stream",
          "text": [
            "tags=['PineconeVectorStore', 'OpenAIEmbeddings'] vectorstore=<langchain_pinecone.vectorstores.PineconeVectorStore object at 0x787ba4483e90> search_kwargs={'k': 20}\n",
            "{'query': 'describe AC-PW1X11-S1', 'result': 'The AC-PW1X11-S1 is a powerful 4-port high-power charger designed to charge multiple devices simultaneously. It features three USB-C ports and one USB-A port, supporting a maximum total output of 240W. The charger is compatible with PD 3.1 or PD 3.0, Fast Charger 2.0, PPS, and Quick Charge 3.0 fast charging technologies. It is ideal for charging laptops, tablets, smartphones, and smartwatches. The charger is equipped with GaN 2 technology, which enhances charging efficiency and reduces heat. It includes a stand, carrying pouch, and quick start guide in the package. The charger is engineered in the USA and manufactured in China, and it comes with a 2-year limited warranty.'}\n"
          ]
        }
      ],
      "source": [
        "from langchain.chains import RetrievalQA\n",
        "# --------------------------\n",
        "# 4. Create a Retriever and the QA Chain\n",
        "# --------------------------\n",
        "# The retriever will use similarity search (e.g., k=5 nearest chunks) to get relevant context.\n",
        "retriever = vectorstore.as_retriever(search_type=\"similarity\", search_kwargs={\"k\": 20})\n",
        "\n",
        "# Initialize the LLM (here, using OpenAI with a temperature of 0 for deterministic output)\n",
        "llm = ChatOpenAI(model=\"gpt-4o\", temperature=0,openai_api_key=\"???\")\n",
        "print(retriever)\n",
        "\n",
        "system_prompt = (\n",
        "    \"You are a professional customer service agent. Always be polite, clear, and helpful.\"\n",
        "    \"Use the given context to answer the question. \"\n",
        "    \"If you don't know the answer, try to find it online. \"\n",
        "    \"Try to Use three sentence maximum and keep the answer concise. \"\n",
        "    \"Context: {context}\"\n",
        ")\n",
        "prompt = ChatPromptTemplate.from_messages(\n",
        "    [\n",
        "        (\"system\", system_prompt),\n",
        "        (\"human\", \"{input}\"),\n",
        "    ]\n",
        ")\n",
        "#query = \"Can ID-US0C11-S1 support 60W PD charging\"\n",
        "#question_answer_chain = create_stuff_documents_chain(llm, prompt)\n",
        "#chain = create_retrieval_chain(retriever, question_answer_chain)\n",
        "#chain.invoke({\"input\": query})\n",
        "\n",
        "# Build a RetrievalQA chain: this chain will retrieve relevant document chunks and then pass them\n",
        "# as context to the LLM to generate an answer.\n",
        "qa_chain = RetrievalQA.from_chain_type(llm=llm, chain_type=\"stuff\", retriever=retriever)\n",
        "answer = qa_chain.invoke({\"query\":\"describe AC-PW1X11-S1\"})\n",
        "print(answer)"
      ]
    },
    {
      "cell_type": "code",
      "execution_count": null,
      "metadata": {
        "colab": {
          "base_uri": "https://localhost:8080/"
        },
        "id": "IdHHIzWTNHO_",
        "outputId": "fe178d78-3f1b-48f8-a2da-7852e1f935fe"
      },
      "outputs": [
        {
          "name": "stdout",
          "output_type": "stream",
          "text": [
            "Vector store created.\n",
            "Welcome to the Product Support Chatbot!\n",
            "Ask your question about our products or type 'exit' to quit.\n",
            "\n",
            "Your question: who are you?\n",
            "\n",
            "Answer: I'm an AI language model created by OpenAI, here to help answer your questions and provide information. How can I assist you today?\n",
            "\n",
            "Your question: for CE-MT3H11-S1, does it have gas spring?\n",
            "\n",
            "Answer: I don't have specific information on the model CE-MT3H11-S1 in the provided documents. Therefore, I cannot confirm whether it includes a gas spring or not. If you need details about this specific model, I recommend checking the product manual or the manufacturer's website for accurate information.\n",
            "\n",
            "Your question: for ID-US0C11-S1, does it support 60W PD charging?\n",
            "\n",
            "Answer: Yes, the ID-US0C11-S1 supports 60W PD charging when all 16 USB-C ports are in use.\n",
            "\n",
            "Your question: what is its total charging power?\n",
            "\n",
            "Answer: The total charging power of the 16-port industrial USB-C PD Charging Station is 1000W.\n",
            "\n",
            "Your question: does the JU-DK0P11-S1 FW update tool work on Windows 10?\n",
            "\n",
            "Answer: Yes, the JU-DK0P11-S1 firmware update tool works on a PC or Laptop with Windows 10 (64-bit) system.\n",
            "\n",
            "Your question: show me the steps to update firmware for JU-DK0P11-S1\n",
            "\n",
            "Answer: To update the firmware for the JU-DK0P11-S1, follow these steps:\n",
            "\n",
            "1. Ensure your PC or Laptop is running Windows 10 or 11 (64-bit).\n",
            "\n",
            "2. Connect the USB-C to C cable from your PC or Laptop to the Docking Station's USB-C port. Then, plug the power adapter into the Docking Station's DC jack.\n",
            "\n",
            "3. Download and unzip the firmware (FW) files to a known location on your computer.\n",
            "\n",
            "4. Double-click the FW tool to install the software. After installation, a hub icon will appear on your desktop.\n",
            "\n",
            "5. Double-click the hub icon to open the application.\n",
            "\n",
            "6. Click “Scan Device” to check the current firmware version of the Docking Station.\n",
            "\n",
            "7. Click \"Upgrade FW\" to start the firmware update process. Wait for the upgrade to complete.\n",
            "\n",
            "8. Once the update is completed, click \"Scan Device\" again to verify the new firmware version. The new version should be listed as 0774, 9013, 0A.01.38.24.\n",
            "\n",
            "Ensure that each step is followed carefully to avoid any issues during the firmware update process.\n",
            "\n",
            "Your question: quit\n",
            "Goodbye!\n"
          ]
        }
      ],
      "source": [
        "from langchain_openai import ChatOpenAI\n",
        "\n",
        "def main():\n",
        "    # Set your OpenAI API key (ensure this key is kept secret!)\n",
        "    os.environ[\"OPENAI_API_KEY\"] = \"???\"  # Replace with your key or set it as an environment variable\n",
        "\n",
        "\n",
        "    # --------------------------\n",
        "    # 3. Create the Vector Store with Embeddings\n",
        "    # --------------------------\n",
        "    # We use OpenAI's embeddings to index the document chunks and store them in a FAISS index.\n",
        "    embeddings = OpenAIEmbeddings()\n",
        "    vectorstore = FAISS.from_documents(docs, embeddings)\n",
        "    print(\"Vector store created.\")\n",
        "\n",
        "    # --------------------------\n",
        "    # 4. Create a Retriever and the QA Chain\n",
        "    # --------------------------\n",
        "    # The retriever will use similarity search (e.g., k=5 nearest chunks) to get relevant context.\n",
        "    retriever = vectorstore.as_retriever(search_type=\"similarity\", search_kwargs={\"k\": 5})\n",
        "\n",
        "    # Initialize the LLM (here, using OpenAI with a temperature of 0 for deterministic output)\n",
        "    llm = ChatOpenAI(model=\"gpt-4-turbo\", temperature=0,openai_api_key=\"???\")\n",
        "\n",
        "    # Build a RetrievalQA chain: this chain will retrieve relevant document chunks and then pass them\n",
        "    # as context to the LLM to generate an answer.\n",
        "    qa_chain = RetrievalQA.from_chain_type(llm=llm, chain_type=\"stuff\", retriever=retriever)\n",
        "\n",
        "    # --------------------------\n",
        "    # 5. Chat Loop for Product Support\n",
        "    # --------------------------\n",
        "    print(\"Welcome to the Product Support Chatbot!\")\n",
        "    print(\"Ask your question about our products or type 'exit' to quit.\")\n",
        "    while True:\n",
        "        query = input(\"\\nYour question: \")\n",
        "        if query.lower() in [\"exit\", \"quit\"]:\n",
        "            print(\"Goodbye!\")\n",
        "            break\n",
        "        try:\n",
        "            answer = qa_chain.run(query)\n",
        "            print(\"\\nAnswer:\", answer)\n",
        "        except Exception as e:\n",
        "            print(\"Sorry, an error occurred:\", e)\n",
        "\n",
        "if __name__ == \"__main__\":\n",
        "    main()\n",
        "\n"
      ]
    },
    {
      "cell_type": "code",
      "execution_count": null,
      "metadata": {
        "id": "I3BnOopqZph4"
      },
      "outputs": [],
      "source": [
        "import pandas as pd\n",
        "from pandas import DataFrame\n",
        "from google.colab import drive\n",
        "\n",
        "def save_product(product) :\n",
        "  #print(product['sku'])\n",
        "  file_name = product['sku'] + \".txt\"\n",
        "  with open(f\"/content/gdrive/MyDrive/data/{file_name}\", 'w') as f:\n",
        "    for key, value in product.items():\n",
        "      f.write(f\"{key}: {value} \\n\")\n",
        "\n",
        "\n",
        "\n",
        "#uncomment this when mounting the google drive to Colab for the first time\n",
        "drive.mount('/content/gdrive')\n",
        "\n",
        "df_product = pd.read_excel(\"/content/gdrive/MyDrive/data/siig-products-1.xlsx\", sheet_name=\"catalog_product_entity\")\n",
        "df_attr = pd.read_excel(\"/content/gdrive/MyDrive/data/siig_website_attribute.xlsx\", sheet_name=\"siig_website_attribute\")\n",
        "\n",
        "\n",
        "#df_attr.head(5)\n",
        "df_product = pd.merge(df_product, df_attr[['attribute_id','attribute_code']], left_on='attribute_id', right_on='attribute_id', how='left').drop('attribute_id', axis=1)\n",
        "#df_product.head(5)\n",
        "\n",
        "df_product.dropna(subset=['sku'], inplace=True)\n",
        "\n",
        "product = {}\n",
        "current_sku = ''\n",
        "for index, row in df_product.iterrows():\n",
        "  if current_sku != row['sku'] :\n",
        "    current_sku = row['sku']\n",
        "    if product != {}:\n",
        "      if product['sku'] != 'nan': save_product(product)\n",
        "    product = {}\n",
        "\n",
        "  product['sku'] = row['sku']\n",
        "  product[row['attribute_code']] = row['value']\n",
        "\n",
        "\n"
      ]
    },
    {
      "cell_type": "code",
      "execution_count": null,
      "metadata": {
        "id": "05hv0__ZsW9I"
      },
      "outputs": [],
      "source": []
    },
    {
      "cell_type": "code",
      "execution_count": null,
      "metadata": {
        "id": "FiBFLS-eNQoA"
      },
      "outputs": [],
      "source": [
        "\n",
        "from flask import Flask, request, jsonify\n",
        "\n",
        "app = Flask(__name__)\n",
        "\n",
        "@app.route('/chat', methods=['POST'])\n",
        "def chat():\n",
        "    user_message = request.json.get('message')\n",
        "    # Process the user message with your chatbot logic\n",
        "    response_message = your_chatbot_function(user_message)\n",
        "    return jsonify({'reply': response_message})\n",
        "\n",
        "if __name__ == '__main__':\n",
        "    app.run(host='0.0.0.0', port=5000)"
      ]
    }
  ],
  "metadata": {
    "colab": {
      "provenance": []
    },
    "kernelspec": {
      "display_name": "Python 3",
      "name": "python3"
    },
    "language_info": {
      "name": "python"
    }
  },
  "nbformat": 4,
  "nbformat_minor": 0
}